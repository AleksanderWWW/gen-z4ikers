{
 "cells": [
  {
   "cell_type": "markdown",
   "id": "57014eff-dad6-407a-8d44-13bad9a8d11d",
   "metadata": {},
   "source": [
    "# SGH x Mastercard Hackathon - May 2025\n",
    "\n",
    "## Fraud detection model"
   ]
  },
  {
   "cell_type": "markdown",
   "id": "9ef30adb-190d-420e-ac78-ab55276c563a",
   "metadata": {},
   "source": [
    "Let's start by setting up the project and installing requirements"
   ]
  },
  {
   "cell_type": "code",
   "execution_count": 1,
   "id": "e2456d84-4a2d-419d-990b-f83bf0bcca80",
   "metadata": {},
   "outputs": [
    {
     "name": "stdout",
     "output_type": "stream",
     "text": [
      "Note: you may need to restart the kernel to use updated packages.\n"
     ]
    },
    {
     "name": "stderr",
     "output_type": "stream",
     "text": [
      "\n",
      "[notice] A new release of pip is available: 25.0.1 -> 25.1.1\n",
      "[notice] To update, run: python.exe -m pip install --upgrade pip\n"
     ]
    }
   ],
   "source": [
    "%pip install -q -r requirements.txt"
   ]
  },
  {
   "cell_type": "markdown",
   "id": "95c02192-0831-4478-adcb-214cc3a2ce6f",
   "metadata": {},
   "source": [
    "Next, we import the packages we'll need for data processing, feature engineering, model training and evaluation"
   ]
  },
  {
   "cell_type": "code",
   "execution_count": 2,
   "id": "d66defe1-26a3-42ee-9e10-0994f1a5087f",
   "metadata": {},
   "outputs": [
    {
     "name": "stderr",
     "output_type": "stream",
     "text": [
      "C:\\Users\\alwoj\\AppData\\Local\\Programs\\Python\\Python313\\Lib\\site-packages\\tqdm\\auto.py:21: TqdmWarning: IProgress not found. Please update jupyter and ipywidgets. See https://ipywidgets.readthedocs.io/en/stable/user_install.html\n",
      "  from .autonotebook import tqdm as notebook_tqdm\n"
     ]
    }
   ],
   "source": [
    "from pathlib import Path\n",
    "import time\n",
    "import joblib\n",
    "from typing import Callable, TypeVar, ParamSpec\n",
    "from dataclasses import dataclass\n",
    "\n",
    "import pandas as pd\n",
    "import numpy as np\n",
    "from tqdm import tqdm\n",
    "\n",
    "from sklearn.preprocessing import OrdinalEncoder\n",
    "from sklearn.metrics import f1_score, precision_score, recall_score, confusion_matrix, make_scorer, accuracy_score\n",
    "from sklearn.model_selection import train_test_split, StratifiedKFold, cross_val_score\n",
    "from sklearn.base import clone\n",
    "from sklearn.ensemble import RandomForestClassifier\n",
    "\n",
    "from imblearn.under_sampling import RandomUnderSampler\n",
    "\n",
    "from xgboost import XGBClassifier, XGBRFClassifier\n",
    "\n",
    "import optuna\n",
    "\n",
    "import matplotlib.pyplot as plt\n",
    "import seaborn as sns\n",
    "sns.set()\n",
    "\n",
    "import warnings\n",
    "warnings.filterwarnings(\"ignore\")"
   ]
  },
  {
   "cell_type": "markdown",
   "id": "94e90192-a958-4605-87d5-cf713112c0ca",
   "metadata": {},
   "source": [
    "## Step 1. Data ingestion"
   ]
  },
  {
   "cell_type": "code",
   "execution_count": 3,
   "id": "6c6eae3b-be08-402a-8bbe-4fb4a83d96f1",
   "metadata": {},
   "outputs": [],
   "source": [
    "R = TypeVar(\"R\")\n",
    "P = ParamSpec(\"P\")\n",
    "\n",
    "# to obtain cleaner stack trace if wrong path is passed\n",
    "def with_file_existence_checked(func: Callable[P, R]) -> Callable[P, R]:\n",
    "    def _inner(file_path: Path, *args: P.args, **kwargs: P.kwargs) -> R:\n",
    "        if not file_path.is_file():\n",
    "            raise ValueError(f\"file {file_path} doesn't exist\")\n",
    "\n",
    "        return func(file_path, *args, **kwargs)\n",
    "    return _inner\n",
    "\n",
    "\n",
    "@with_file_existence_checked\n",
    "def read_transactions(transaction_path: Path) -> pd.DataFrame:\n",
    "    data_transactions = pd.read_json(transaction_path, lines=True)\n",
    "    location_df = pd.json_normalize(data_transactions['location'])\n",
    "    location_df.columns = ['latitude', 'longitude']\n",
    "    \n",
    "    return data_transactions.drop(columns=['location']).join(location_df)\n",
    "\n",
    "\n",
    "@with_file_existence_checked\n",
    "def read_merchant_data(merchant_path: Path) -> pd.DataFrame:\n",
    "    return pd.read_csv(merchant_path)\n",
    "\n",
    "\n",
    "@with_file_existence_checked\n",
    "def read_user_data(user_path: Path) -> pd.DataFrame:\n",
    "    return pd.read_csv(user_path)\n"
   ]
  },
  {
   "cell_type": "markdown",
   "id": "591db8bb-c7ac-448b-ae83-ee15b02a386b",
   "metadata": {},
   "source": [
    "Once the files are loaded we can proceed to merge them together into one dataset"
   ]
  },
  {
   "cell_type": "code",
   "execution_count": 4,
   "id": "5c9a1097-dd26-45dd-9ce6-2f9181af661b",
   "metadata": {},
   "outputs": [],
   "source": [
    "def get_raw_dataset(transaction_data: pd.DataFrame, merchant_data: pd.DataFrame, user_data: pd.DataFrame) -> pd.DataFrame:\n",
    "    return transaction_data.merge(merchant_data, on='merchant_id', how='left').merge(user_data, on='user_id', how='left')"
   ]
  },
  {
   "cell_type": "code",
   "execution_count": 5,
   "id": "332c57b5-5ec7-42b1-b3fb-c38d78412e1f",
   "metadata": {},
   "outputs": [],
   "source": [
    "def ingest_data() -> pd.DataFrame():\n",
    "    data_transactions = read_transactions(Path(\"data/transactions.json\").resolve())\n",
    "    data_merchants = read_merchant_data(Path(\"data/merchants.csv\").resolve())\n",
    "    data_users = read_user_data(Path(\"data/users.csv\").resolve())\n",
    "    \n",
    "    return get_raw_dataset(data_transactions, data_merchants, data_users)"
   ]
  },
  {
   "cell_type": "code",
   "execution_count": 7,
   "id": "3f8384a0-06e2-4fc2-ab87-dea6094d5415",
   "metadata": {},
   "outputs": [],
   "source": [
    "df = ingest_data()"
   ]
  },
  {
   "cell_type": "markdown",
   "id": "6360b32c-4b50-462a-9105-38b69c536b94",
   "metadata": {},
   "source": [
    "## Step 2. Data pre-processing and feature engineering"
   ]
  },
  {
   "cell_type": "code",
   "execution_count": 8,
   "id": "a4a5faee-68d9-4cff-a04d-b186e6c83c3f",
   "metadata": {},
   "outputs": [],
   "source": [
    "def log_execution(func: Callable[P, R]) -> Callable[P, R]:\n",
    "    def _inner(*args: P.args, **kwargs: P.kwargs) -> R:\n",
    "        start = time.perf_counter()\n",
    "        print(f\"Executing transformation {func.__name__}\")\n",
    "        result = func(*args, **kwargs)\n",
    "        print(f\"Transformation {func.__name__} executed in {time.perf_counter() - start} seconds.\")\n",
    "        return result\n",
    "    return _inner"
   ]
  },
  {
   "cell_type": "code",
   "execution_count": 9,
   "id": "5b4c5d83-82e3-4a20-9998-3584ce15254a",
   "metadata": {},
   "outputs": [],
   "source": [
    "# 1. Sort transactions by user and timestamp\n",
    "@log_execution\n",
    "def sort_by_user_id_and_timestamp(df: pd.DataFrame) -> pd.DataFrame:\n",
    "    df = df.sort_values(by=[\"user_id\", \"timestamp\"])\n",
    "    return df.reset_index(drop=True)\n",
    "\n",
    "# 2. Add a binary column indicating whether the user has committed fraud before\n",
    "@log_execution\n",
    "def add_user_fraud_history(df: pd.DataFrame) -> pd.DataFrame:\n",
    "    df['temp_cumulative_fraud'] = df.groupby('user_id')['is_fraud'].cumsum()\n",
    "    shifted = df.groupby('user_id')['temp_cumulative_fraud'].shift(1)\n",
    "    df['user_has_fraud_history'] = shifted.fillna(0).gt(0).astype(int)\n",
    "    return df.drop(columns=['temp_cumulative_fraud'])\n",
    "\n",
    "# 3. Add a column counting number of transactions by the user\n",
    "@log_execution\n",
    "def add_user_transaction_count(df: pd.DataFrame) -> pd.DataFrame:\n",
    "    df[\"dummy\"] = 1\n",
    "    df[\"users_transaction_count\"] = df.groupby(\"user_id\")[\"dummy\"].cumsum().astype(int)\n",
    "    return df.drop(columns=[\"dummy\"])\n",
    "\n",
    "# 4. Add all user-based temporal and statistical features\n",
    "@log_execution\n",
    "def add_user_time_and_amount_features(df: pd.DataFrame) -> pd.DataFrame:\n",
    "    df['time_since_last_transaction_user'] = df.groupby('user_id')['timestamp'].diff().dt.days\n",
    "    df['time_since_last_transaction_user'] = df['time_since_last_transaction_user'].fillna(0).astype(int)\n",
    "    \n",
    "    # Amount deviation from user history\n",
    "    df['transaction_amount_std_from_user_mean'] = (\n",
    "        df.groupby('user_id')['amount']\n",
    "        .transform(lambda x: (x.expanding().mean().shift(1) - x) / x.expanding().std().shift(1))\n",
    "    )\n",
    "    df['transaction_amount_std_from_user_mean'].replace([np.inf, -np.inf], np.nan, inplace=True)\n",
    "    df['transaction_amount_std_from_user_mean'].fillna(0, inplace=True)\n",
    "\n",
    "    # Time-based features\n",
    "    df['signup_date'] = pd.to_datetime(df['signup_date'])\n",
    "    df['transaction_date'] = pd.to_datetime(df['timestamp'], unit='ms')\n",
    "    df['days_since_signup'] = (df['transaction_date'] - df['signup_date']).dt.total_seconds() // (24 * 3600)\n",
    "    df['days_since_signup'] = df['days_since_signup'].astype(int)\n",
    "\n",
    "    df['transaction_hour'] = df['transaction_date'].dt.hour\n",
    "    df['is_transaction_night'] = ((df['transaction_hour'] >= 0) & (df['transaction_hour'] < 6)).astype(int)\n",
    "\n",
    "    return df\n",
    "\n",
    "# 5. Add rolling transaction counts in the last N hours for each user\n",
    "@log_execution\n",
    "def add_rolling_transaction_counts(df: pd.DataFrame) -> pd.DataFrame:\n",
    "    df['transactions_last_1h_user'] = (\n",
    "        df.groupby('user_id', group_keys=False)\n",
    "        .apply(lambda g: rolling_count(g, '1h'))\n",
    "        .sort_index()\n",
    "    )\n",
    "    df['transactions_last_24h_user'] = (\n",
    "        df.groupby('user_id', group_keys=False)\n",
    "        .apply(lambda g: rolling_count(g, '24h'))\n",
    "        .sort_index()\n",
    "    )\n",
    "    return df\n",
    "\n",
    "# 6. Add moving average of user's past transaction amounts\n",
    "@log_execution\n",
    "def add_avg_amount_last_5_tx(df: pd.DataFrame) -> pd.DataFrame:\n",
    "    df['avg_amount_last_5_tx_user'] = (\n",
    "        df.groupby('user_id')['amount']\n",
    "        .transform(lambda x: x.rolling(window=5, min_periods=1).mean().shift(1))\n",
    "    )\n",
    "    df['avg_amount_last_5_tx_user'].fillna(0, inplace=True)\n",
    "    return df\n",
    "\n",
    "# 7. Add merchant fraud history\n",
    "@log_execution\n",
    "def add_merchant_fraud_history(df: pd.DataFrame) -> pd.DataFrame:\n",
    "    df = df.sort_values(by=[\"merchant_id\", \"timestamp\"]).reset_index(drop=True)\n",
    "    df['temp_cumulative_fraud'] = df.groupby('merchant_id')['is_fraud'].cumsum()\n",
    "    shifted = df.groupby('merchant_id')['temp_cumulative_fraud'].shift(1)\n",
    "    df['merchant_has_fraud_history'] = shifted.fillna(0).gt(0).astype(int)\n",
    "    return df.drop(columns=['temp_cumulative_fraud'])\n",
    "\n",
    "# 8. Add binary indicator whether user changed device from their usual one\n",
    "@log_execution\n",
    "def add_device_change_feature(df: pd.DataFrame) -> pd.DataFrame:\n",
    "    df['user_mode_device_temp'] = df.groupby('user_id')['device'].transform(_get_user_device_mode_for_transform)\n",
    "    has_mode = df['user_mode_device_temp'].notna()\n",
    "    df['device_changed'] = 0\n",
    "    df.loc[has_mode, 'device_changed'] = (\n",
    "        (df.loc[has_mode, 'device'] != df.loc[has_mode, 'user_mode_device_temp']).astype(int)\n",
    "    )\n",
    "    return df.drop(columns=['user_mode_device_temp'])\n",
    "\n",
    "# Helper function for rolling count\n",
    "def rolling_count(series, window):\n",
    "    # series is a DataFrame with 'transaction_date'\n",
    "    return series['transaction_date'].apply(\n",
    "        lambda x: ((series['transaction_date'] >= (x - pd.Timedelta(window))) & (series['transaction_date'] < x)).sum()\n",
    "    )\n",
    "\n",
    "def _get_user_device_mode_for_transform(series):\n",
    "    # Ensure numpy is imported in your notebook, e.g., import numpy as np\n",
    "    modes = series.mode()\n",
    "    if not modes.empty:\n",
    "        return modes.iloc[0]\n",
    "    return np.nan\n"
   ]
  },
  {
   "cell_type": "code",
   "execution_count": 10,
   "id": "fff8f390-ec88-48d7-be46-7167bd0fe405",
   "metadata": {},
   "outputs": [],
   "source": [
    "@log_execution\n",
    "def add_temporal_pattern_features(df_cleaned: pd.DataFrame) -> pd.DataFrame:\n",
    "    \"\"\"1. Temporal Pattern Features\"\"\"\n",
    "    df_cleaned['day_of_week'] = df_cleaned['transaction_date'].dt.dayofweek\n",
    "    df_cleaned['is_weekend'] = (df_cleaned['transaction_date'].dt.dayofweek >= 5).astype(int)\n",
    "\n",
    "    df_cleaned = df_cleaned.sort_values(by=[\"user_id\", \"timestamp\"]).reset_index(drop=True)\n",
    "    df_cleaned['user_tx_velocity_15m'] = (\n",
    "        df_cleaned.groupby('user_id', group_keys=False)\n",
    "        .apply(lambda group: rolling_count(group, '15m'))\n",
    "        .sort_index()\n",
    "    ).astype(int)\n",
    "    return df_cleaned\n",
    "\n",
    "\n",
    "@log_execution\n",
    "def add_high_risk_merchant_features(df_cleaned: pd.DataFrame) -> pd.DataFrame:\n",
    "    \"\"\"2. High-Risk Merchant Features\"\"\"\n",
    "    df_cleaned = df_cleaned.sort_values(by=[\"merchant_id\", \"timestamp\"]).reset_index(drop=True)\n",
    "\n",
    "    df_cleaned['merchant_past_tx_count'] = df_cleaned.groupby('merchant_id').cumcount()\n",
    "    df_cleaned['merchant_past_fraud_count'] = (\n",
    "        df_cleaned.groupby('merchant_id')['is_fraud']\n",
    "        .transform(lambda x: x.shift(1).expanding().sum())\n",
    "        .fillna(0)\n",
    "        .astype(int)\n",
    "    )\n",
    "\n",
    "    df_cleaned['merchant_past_fraud_rate'] = (\n",
    "        df_cleaned['merchant_past_fraud_count'] /\n",
    "        (df_cleaned['merchant_past_tx_count'] + 1e-6)\n",
    "    ).replace([np.inf, -np.inf], 0).fillna(0)\n",
    "\n",
    "    df_cleaned['merchant_avg_amount_hist'] = (\n",
    "        df_cleaned.groupby('merchant_id')['amount']\n",
    "        .transform(lambda x: x.shift(1).expanding().mean())\n",
    "        .fillna(0)\n",
    "    )\n",
    "\n",
    "    df_cleaned['amount_vs_merchant_avg_ratio'] = (\n",
    "        df_cleaned['amount'] / (df_cleaned['merchant_avg_amount_hist'] + 1e-6)\n",
    "    ).replace([np.inf, -np.inf], 0).fillna(0)\n",
    "\n",
    "    return df_cleaned\n",
    "\n",
    "\n",
    "@log_execution\n",
    "def add_cardholder_anomaly_features(df_cleaned: pd.DataFrame) -> pd.DataFrame:\n",
    "    \"\"\"3. Cardholder Behavior Anomaly Features\"\"\"\n",
    "    df_cleaned = df_cleaned.sort_values(by=[\"user_id\", \"timestamp\"]).reset_index(drop=True)\n",
    "\n",
    "    if 'avg_amount_last_5_tx_user' in df_cleaned.columns:\n",
    "        df_cleaned['amount_vs_user_avg_5tx_ratio'] = (\n",
    "            df_cleaned['amount'] / (df_cleaned['avg_amount_last_5_tx_user'] + 1e-6)\n",
    "        ).replace([np.inf, -np.inf], 0).fillna(0)\n",
    "    else:\n",
    "        print(\"Warning: Column 'avg_amount_last_5_tx_user' not found. Skipping 'amount_vs_user_avg_5tx_ratio' feature.\")\n",
    "\n",
    "    df_cleaned['is_new_merchant_for_user'] = (\n",
    "        df_cleaned.groupby(['user_id', 'merchant_id']).cumcount() == 0\n",
    "    ).astype(int)\n",
    "\n",
    "    return df_cleaned\n",
    "\n",
    "\n",
    "@log_execution\n",
    "def finalize_feature_processing(df_cleaned: pd.DataFrame) -> pd.DataFrame:\n",
    "    \"\"\"Final sort and column cleanup\"\"\"\n",
    "    df_cleaned = df_cleaned.sort_values(by=[\"user_id\", \"timestamp\"]).reset_index(drop=True)\n",
    "    df_cleaned = df_cleaned.drop(columns=['transaction_date', 'signup_date'])\n",
    "    return df_cleaned"
   ]
  },
  {
   "cell_type": "code",
   "execution_count": 11,
   "id": "cce21d1f-b38a-4937-8b7e-a1bec9344777",
   "metadata": {},
   "outputs": [],
   "source": [
    "def preprocess_data(data: pd.DataFrame) -> pd.DataFrame:\n",
    "    data[\"education\"] = data[\"education\"].fillna(\"No Education\")\n",
    "\n",
    "    df_cleaned = data.drop(columns = [\"transaction_id\", \"currency\"])\n",
    "\n",
    "    transformations = (\n",
    "        sort_by_user_id_and_timestamp,\n",
    "        add_user_fraud_history,\n",
    "        add_user_transaction_count,\n",
    "        add_user_time_and_amount_features,\n",
    "        add_rolling_transaction_counts,\n",
    "        add_avg_amount_last_5_tx,\n",
    "        add_merchant_fraud_history,\n",
    "        add_device_change_feature,\n",
    "        add_temporal_pattern_features,\n",
    "        add_high_risk_merchant_features,\n",
    "        add_cardholder_anomaly_features,\n",
    "        finalize_feature_processing,\n",
    "    )\n",
    "\n",
    "    with tqdm(desc=\"data_preprocessing...\", total=len(transformations)) as pbar:\n",
    "        for func in transformations:\n",
    "            df_cleaned = func(df_cleaned)\n",
    "            pbar.update(1)\n",
    "\n",
    "    return df_cleaned      "
   ]
  },
  {
   "cell_type": "code",
   "execution_count": 12,
   "id": "b9ef6c8f-f653-4f25-97b4-129a4df3cc2c",
   "metadata": {},
   "outputs": [
    {
     "name": "stderr",
     "output_type": "stream",
     "text": [
      "data_preprocessing...:   0%|                                                                    | 0/12 [00:00<?, ?it/s]"
     ]
    },
    {
     "name": "stdout",
     "output_type": "stream",
     "text": [
      "Executing transformation sort_by_user_id_and_timestamp\n"
     ]
    },
    {
     "name": "stderr",
     "output_type": "stream",
     "text": [
      "data_preprocessing...:   8%|█████                                                       | 1/12 [00:01<00:13,  1.27s/it]"
     ]
    },
    {
     "name": "stdout",
     "output_type": "stream",
     "text": [
      "Transformation sort_by_user_id_and_timestamp executed in 1.2008207999169827 seconds.\n",
      "Executing transformation add_user_fraud_history\n"
     ]
    },
    {
     "name": "stderr",
     "output_type": "stream",
     "text": [
      "data_preprocessing...:  17%|██████████                                                  | 2/12 [00:02<00:09,  1.04it/s]"
     ]
    },
    {
     "name": "stdout",
     "output_type": "stream",
     "text": [
      "Transformation add_user_fraud_history executed in 0.6851530000567436 seconds.\n",
      "Executing transformation add_user_transaction_count\n"
     ]
    },
    {
     "name": "stderr",
     "output_type": "stream",
     "text": [
      "data_preprocessing...:  25%|███████████████                                             | 3/12 [00:02<00:06,  1.39it/s]"
     ]
    },
    {
     "name": "stdout",
     "output_type": "stream",
     "text": [
      "Transformation add_user_transaction_count executed in 0.37757759960368276 seconds.\n",
      "Executing transformation add_user_time_and_amount_features\n"
     ]
    },
    {
     "name": "stderr",
     "output_type": "stream",
     "text": [
      "data_preprocessing...:  33%|████████████████████                                        | 4/12 [00:11<00:30,  3.84s/it]"
     ]
    },
    {
     "name": "stdout",
     "output_type": "stream",
     "text": [
      "Transformation add_user_time_and_amount_features executed in 8.635619099717587 seconds.\n",
      "Executing transformation add_rolling_transaction_counts\n"
     ]
    },
    {
     "name": "stderr",
     "output_type": "stream",
     "text": [
      "data_preprocessing...:  42%|█████████████████████████                                   | 5/12 [03:33<08:47, 75.34s/it]"
     ]
    },
    {
     "name": "stdout",
     "output_type": "stream",
     "text": [
      "Transformation add_rolling_transaction_counts executed in 202.10839200019836 seconds.\n",
      "Executing transformation add_avg_amount_last_5_tx\n"
     ]
    },
    {
     "name": "stderr",
     "output_type": "stream",
     "text": [
      "data_preprocessing...:  50%|██████████████████████████████                              | 6/12 [03:37<05:06, 51.05s/it]"
     ]
    },
    {
     "name": "stdout",
     "output_type": "stream",
     "text": [
      "Transformation add_avg_amount_last_5_tx executed in 3.896544899791479 seconds.\n",
      "Executing transformation add_merchant_fraud_history\n"
     ]
    },
    {
     "name": "stderr",
     "output_type": "stream",
     "text": [
      "data_preprocessing...:  58%|███████████████████████████████████                         | 7/12 [03:38<02:53, 34.78s/it]"
     ]
    },
    {
     "name": "stdout",
     "output_type": "stream",
     "text": [
      "Transformation add_merchant_fraud_history executed in 1.244980700314045 seconds.\n",
      "Executing transformation add_device_change_feature\n"
     ]
    },
    {
     "name": "stderr",
     "output_type": "stream",
     "text": [
      "data_preprocessing...:  67%|████████████████████████████████████████                    | 8/12 [03:41<01:38, 24.72s/it]"
     ]
    },
    {
     "name": "stdout",
     "output_type": "stream",
     "text": [
      "Transformation add_device_change_feature executed in 3.1203485997393727 seconds.\n",
      "Executing transformation add_temporal_pattern_features\n"
     ]
    },
    {
     "name": "stderr",
     "output_type": "stream",
     "text": [
      "data_preprocessing...:  75%|█████████████████████████████████████████████               | 9/12 [05:15<02:18, 46.25s/it]"
     ]
    },
    {
     "name": "stdout",
     "output_type": "stream",
     "text": [
      "Transformation add_temporal_pattern_features executed in 93.55114300036803 seconds.\n",
      "Executing transformation add_high_risk_merchant_features\n"
     ]
    },
    {
     "name": "stderr",
     "output_type": "stream",
     "text": [
      "data_preprocessing...:  83%|█████████████████████████████████████████████████▏         | 10/12 [05:16<01:04, 32.48s/it]"
     ]
    },
    {
     "name": "stdout",
     "output_type": "stream",
     "text": [
      "Transformation add_high_risk_merchant_features executed in 1.599934000056237 seconds.\n",
      "Executing transformation add_cardholder_anomaly_features\n"
     ]
    },
    {
     "name": "stderr",
     "output_type": "stream",
     "text": [
      "data_preprocessing...:  92%|██████████████████████████████████████████████████████     | 11/12 [05:18<00:22, 22.95s/it]"
     ]
    },
    {
     "name": "stdout",
     "output_type": "stream",
     "text": [
      "Transformation add_cardholder_anomaly_features executed in 1.2858206001110375 seconds.\n",
      "Executing transformation finalize_feature_processing\n"
     ]
    },
    {
     "name": "stderr",
     "output_type": "stream",
     "text": [
      "data_preprocessing...: 100%|███████████████████████████████████████████████████████████| 12/12 [05:19<00:00, 26.59s/it]"
     ]
    },
    {
     "name": "stdout",
     "output_type": "stream",
     "text": [
      "Transformation finalize_feature_processing executed in 0.8611949002370238 seconds.\n"
     ]
    },
    {
     "name": "stderr",
     "output_type": "stream",
     "text": [
      "\n"
     ]
    }
   ],
   "source": [
    "df = preprocess_data(df)"
   ]
  },
  {
   "cell_type": "markdown",
   "id": "790459f0-f515-427e-bfaa-e3e4d414a7c0",
   "metadata": {},
   "source": [
    "## Step 3. Prepare train-test datasets"
   ]
  },
  {
   "cell_type": "code",
   "execution_count": 13,
   "id": "de8736b7-c5f3-44b7-bff9-13737164db6c",
   "metadata": {},
   "outputs": [],
   "source": [
    "@dataclass\n",
    "class DataSetRepo:\n",
    "    X_train: pd.DataFrame\n",
    "    y_train: pd.Series\n",
    "    X_test: pd.DataFrame\n",
    "    y_test: pd.Series\n",
    "    \n",
    "\n",
    "def prepare_datasets(df: pd.DataFrame) -> DataSetRepo:\n",
    "    enc = OrdinalEncoder()\n",
    "\n",
    "    X = df.drop(columns=[\"is_fraud\"])\n",
    "    y = df[\"is_fraud\"]\n",
    "    \n",
    "    X = pd.DataFrame(enc.fit_transform(X), columns=X.columns)\n",
    "    \n",
    "    X_train_orig, X_test, y_train_orig, y_test = train_test_split(\n",
    "        X, y, test_size=0.2, random_state=42, stratify=y, shuffle=True\n",
    "    )\n",
    "    \n",
    "    # Undersample only the training data\n",
    "    rus = RandomUnderSampler(random_state=42)\n",
    "    X_train, y_train = rus.fit_resample(X_train_orig, y_train_orig)\n",
    "\n",
    "    return DataSetRepo(\n",
    "        X_train=X_train,\n",
    "        y_train=y_train,\n",
    "        X_test=X_test,\n",
    "        y_test=y_test,\n",
    "    )"
   ]
  },
  {
   "cell_type": "code",
   "execution_count": 14,
   "id": "ac298f5b-e484-4233-9260-1f962d0d3fd3",
   "metadata": {},
   "outputs": [],
   "source": [
    "repo = prepare_datasets(df)"
   ]
  },
  {
   "cell_type": "markdown",
   "id": "c3b206bc-041b-4a9e-a195-2ee89fb47f25",
   "metadata": {},
   "source": [
    "## Step 4. Feature selection"
   ]
  },
  {
   "cell_type": "code",
   "execution_count": 15,
   "id": "6ae8b3b2-9386-4db0-80ae-21592200a70b",
   "metadata": {},
   "outputs": [
    {
     "name": "stdout",
     "output_type": "stream",
     "text": [
      "RFE complete: lowest cost=-61477.33 with 1 features.\n"
     ]
    }
   ],
   "source": [
    "def custom_cost_function(y_true, y_pred, cost_fn=10, cost_fp=3):\n",
    "    y_true_arr = np.asarray(y_true)\n",
    "    y_pred_arr = np.asarray(y_pred)\n",
    "    fn_count = np.sum((y_true_arr == 1) & (y_pred_arr == 0))\n",
    "    fp_count = np.sum((y_true_arr == 0) & (y_pred_arr == 1))\n",
    "    return fn_count * cost_fn + fp_count * cost_fp\n",
    "\n",
    "custom_scorer = make_scorer(custom_cost_function, greater_is_better=False)\n",
    "\n",
    "# Recursive feature elimination with CV, supporting custom scorer\n",
    "\n",
    "def rfe_with_cv(\n",
    "    model_prototype,\n",
    "    X: pd.DataFrame,\n",
    "    y: pd.Series,\n",
    "    n_splits: int = 3,\n",
    "    scoring=custom_scorer,\n",
    "    random_state: int = 42\n",
    "):\n",
    "    features = X.columns.tolist()\n",
    "    best_score = np.inf  # lower cost is better\n",
    "    best_features = features.copy()\n",
    "    history = {}\n",
    "\n",
    "    cv = StratifiedKFold(n_splits=n_splits, shuffle=True, random_state=random_state)\n",
    "\n",
    "    while features:\n",
    "        model = clone(model_prototype)\n",
    "        scores = cross_val_score(\n",
    "            model,\n",
    "            X[features],\n",
    "            y,\n",
    "            cv=cv,\n",
    "            scoring=scoring,\n",
    "            n_jobs=-1\n",
    "        )\n",
    "        mean_score = np.mean(scores)\n",
    "        history[len(features)] = mean_score\n",
    "\n",
    "        if mean_score < best_score or (\n",
    "            np.isclose(mean_score, best_score) and len(features) < len(best_features)\n",
    "        ):\n",
    "            best_score = mean_score\n",
    "            best_features = features.copy()\n",
    "\n",
    "        if len(features) == 1:\n",
    "            break\n",
    "\n",
    "        model_full = clone(model_prototype)\n",
    "        model_full.fit(X[features], y)\n",
    "        importances = pd.Series(\n",
    "            model_full.feature_importances_,\n",
    "            index=features\n",
    "        )\n",
    "        least_imp = importances.idxmin()\n",
    "        features.remove(least_imp)\n",
    "\n",
    "    print(f\"RFE complete: lowest cost={best_score:.2f} with {len(best_features)} features.\")\n",
    "    return best_features, history\n",
    "\n",
    "# Run RFE on balanced training data\n",
    "xgb_prototype = XGBRFClassifier()\n",
    "best_feats, rfe_history = rfe_with_cv(xgb_prototype, repo.X_train, repo.y_train)"
   ]
  },
  {
   "cell_type": "markdown",
   "id": "01f5236c-c58e-416d-8956-ba063f4f30b3",
   "metadata": {},
   "source": [
    "## Step 5. Model training"
   ]
  },
  {
   "cell_type": "markdown",
   "id": "10c54aea-3619-4133-a787-1feba4e72026",
   "metadata": {},
   "source": [
    "We will use `optuna` to search the hyperparameter space for configuration yielding optimal results \n",
    "for an XGBOOST classifier"
   ]
  },
  {
   "cell_type": "code",
   "execution_count": 16,
   "id": "6890c991-79fe-4bad-8249-95f487b17222",
   "metadata": {},
   "outputs": [
    {
     "name": "stderr",
     "output_type": "stream",
     "text": [
      "[I 2025-05-16 16:01:08,963] A new study created in memory with name: no-name-cb932ec3-18c0-4c62-80e5-f9082df04fa3\n",
      "[I 2025-05-16 16:01:11,535] Trial 0 finished with value: -18443.2 and parameters: {'learning_rate': 0.025998396026039122, 'n_estimators': 92, 'max_depth': 7, 'subsample': 0.8213409383451991, 'colsample_bytree': 0.7856783120116833, 'gamma': 2.571488342329478}. Best is trial 0 with value: -18443.2.\n",
      "[I 2025-05-16 16:01:14,566] Trial 4 finished with value: -18443.2 and parameters: {'learning_rate': 0.28326625772916514, 'n_estimators': 114, 'max_depth': 9, 'subsample': 0.63922427217496, 'colsample_bytree': 0.7506296717117744, 'gamma': 4.603164342353317}. Best is trial 0 with value: -18443.2.\n",
      "[I 2025-05-16 16:01:15,255] Trial 1 finished with value: -18443.2 and parameters: {'learning_rate': 0.1002550291340687, 'n_estimators': 190, 'max_depth': 4, 'subsample': 0.8210918241086703, 'colsample_bytree': 0.7808313917428811, 'gamma': 2.1322153232666805}. Best is trial 0 with value: -18443.2.\n",
      "[I 2025-05-16 16:01:16,039] Trial 2 finished with value: -18443.2 and parameters: {'learning_rate': 0.2465238563754114, 'n_estimators': 61, 'max_depth': 6, 'subsample': 0.6206739486916781, 'colsample_bytree': 0.955663589681858, 'gamma': 0.6843218750807994}. Best is trial 0 with value: -18443.2.\n",
      "[I 2025-05-16 16:01:17,631] Trial 9 finished with value: -18443.2 and parameters: {'learning_rate': 0.29174271727036577, 'n_estimators': 154, 'max_depth': 7, 'subsample': 0.6491029490087634, 'colsample_bytree': 0.9795848864697367, 'gamma': 1.3296620498276552}. Best is trial 0 with value: -18443.2.\n",
      "[I 2025-05-16 16:01:17,750] Trial 3 finished with value: -18443.2 and parameters: {'learning_rate': 0.22767944310851082, 'n_estimators': 119, 'max_depth': 5, 'subsample': 0.6250049195973637, 'colsample_bytree': 0.8492134569615796, 'gamma': 4.278671473310855}. Best is trial 0 with value: -18443.2.\n",
      "[I 2025-05-16 16:01:17,820] Trial 7 finished with value: -18443.2 and parameters: {'learning_rate': 0.18825578794511114, 'n_estimators': 57, 'max_depth': 3, 'subsample': 0.7817322501257807, 'colsample_bytree': 0.9578055391604144, 'gamma': 1.7134965249895484}. Best is trial 0 with value: -18443.2.\n",
      "[I 2025-05-16 16:01:17,891] Trial 13 finished with value: -18443.2 and parameters: {'learning_rate': 0.039903952836483805, 'n_estimators': 153, 'max_depth': 6, 'subsample': 0.6424821079425004, 'colsample_bytree': 0.9425962157343466, 'gamma': 3.517776714213821}. Best is trial 0 with value: -18443.2.\n",
      "[I 2025-05-16 16:01:17,973] Trial 5 finished with value: -18443.2 and parameters: {'learning_rate': 0.12541749290233742, 'n_estimators': 261, 'max_depth': 2, 'subsample': 0.8973093951796055, 'colsample_bytree': 0.6425363554861017, 'gamma': 0.9028204376636956}. Best is trial 0 with value: -18443.2.\n",
      "[I 2025-05-16 16:01:18,214] Trial 6 finished with value: -18443.2 and parameters: {'learning_rate': 0.024098635968981603, 'n_estimators': 157, 'max_depth': 9, 'subsample': 0.6714447142136735, 'colsample_bytree': 0.7073574694008119, 'gamma': 0.7816948317824968}. Best is trial 0 with value: -18443.2.\n",
      "[I 2025-05-16 16:01:18,353] Trial 10 finished with value: -18443.2 and parameters: {'learning_rate': 0.2652487360216758, 'n_estimators': 132, 'max_depth': 3, 'subsample': 0.8407908046171311, 'colsample_bytree': 0.695593889735244, 'gamma': 4.758509199645989}. Best is trial 0 with value: -18443.2.\n",
      "[I 2025-05-16 16:01:18,399] Trial 14 finished with value: -18443.2 and parameters: {'learning_rate': 0.07261439214144874, 'n_estimators': 106, 'max_depth': 7, 'subsample': 0.8932046415278636, 'colsample_bytree': 0.6084027200506638, 'gamma': 0.022750215521026296}. Best is trial 0 with value: -18443.2.\n",
      "[I 2025-05-16 16:01:18,493] Trial 12 finished with value: -18443.2 and parameters: {'learning_rate': 0.13175389981639482, 'n_estimators': 136, 'max_depth': 7, 'subsample': 0.7489302062213631, 'colsample_bytree': 0.7202410204478918, 'gamma': 4.278546260277982}. Best is trial 0 with value: -18443.2.\n",
      "[I 2025-05-16 16:01:18,574] Trial 11 finished with value: -18443.2 and parameters: {'learning_rate': 0.16766726998371284, 'n_estimators': 197, 'max_depth': 7, 'subsample': 0.6331218470805163, 'colsample_bytree': 0.9993068992053218, 'gamma': 1.293393140795418}. Best is trial 0 with value: -18443.2.\n",
      "[I 2025-05-16 16:01:18,730] Trial 15 finished with value: -18443.2 and parameters: {'learning_rate': 0.2807923316992272, 'n_estimators': 186, 'max_depth': 10, 'subsample': 0.8938892183056004, 'colsample_bytree': 0.9957275170268501, 'gamma': 4.026548686966499}. Best is trial 0 with value: -18443.2.\n",
      "[I 2025-05-16 16:01:18,934] Trial 8 finished with value: -18443.2 and parameters: {'learning_rate': 0.28520051181439654, 'n_estimators': 274, 'max_depth': 4, 'subsample': 0.9545101962460318, 'colsample_bytree': 0.7098441694437236, 'gamma': 3.4161422716078564}. Best is trial 0 with value: -18443.2.\n",
      "[I 2025-05-16 16:01:19,706] Trial 16 finished with value: -18443.2 and parameters: {'learning_rate': 0.2662283928041044, 'n_estimators': 234, 'max_depth': 3, 'subsample': 0.8273116494190154, 'colsample_bytree': 0.8637261939742935, 'gamma': 1.2160772135363023}. Best is trial 0 with value: -18443.2.\n",
      "[I 2025-05-16 16:01:20,323] Trial 17 finished with value: -18443.2 and parameters: {'learning_rate': 0.28327870627811175, 'n_estimators': 168, 'max_depth': 10, 'subsample': 0.7390385533869566, 'colsample_bytree': 0.9946802287046966, 'gamma': 1.6843996913280057}. Best is trial 0 with value: -18443.2.\n",
      "[I 2025-05-16 16:01:20,457] Trial 18 finished with value: -18443.2 and parameters: {'learning_rate': 0.03545240581367144, 'n_estimators': 120, 'max_depth': 7, 'subsample': 0.677148011867929, 'colsample_bytree': 0.8305485711334063, 'gamma': 3.8662231395708258}. Best is trial 0 with value: -18443.2.\n",
      "[I 2025-05-16 16:01:21,868] Trial 19 finished with value: -18443.2 and parameters: {'learning_rate': 0.19319548360984842, 'n_estimators': 280, 'max_depth': 2, 'subsample': 0.9949609962113407, 'colsample_bytree': 0.7968724250784869, 'gamma': 4.308964152689071}. Best is trial 0 with value: -18443.2.\n",
      "[I 2025-05-16 16:01:21,889] Trial 20 finished with value: -18443.2 and parameters: {'learning_rate': 0.25580797191506405, 'n_estimators': 127, 'max_depth': 4, 'subsample': 0.7317684268619676, 'colsample_bytree': 0.6684579899382481, 'gamma': 0.14167243079680925}. Best is trial 0 with value: -18443.2.\n",
      "[I 2025-05-16 16:01:22,115] Trial 21 finished with value: -18443.2 and parameters: {'learning_rate': 0.07316044999904968, 'n_estimators': 52, 'max_depth': 6, 'subsample': 0.6173518990385453, 'colsample_bytree': 0.6876288946890039, 'gamma': 4.091666522862519}. Best is trial 0 with value: -18443.2.\n",
      "[I 2025-05-16 16:01:22,441] Trial 22 finished with value: -18443.2 and parameters: {'learning_rate': 0.11938842864638738, 'n_estimators': 86, 'max_depth': 6, 'subsample': 0.9772269909933462, 'colsample_bytree': 0.6899362588306833, 'gamma': 2.5558168964485235}. Best is trial 0 with value: -18443.2.\n",
      "[I 2025-05-16 16:01:23,133] Trial 23 finished with value: -18443.2 and parameters: {'learning_rate': 0.2007244331687578, 'n_estimators': 139, 'max_depth': 10, 'subsample': 0.9622539765721783, 'colsample_bytree': 0.9431919214470391, 'gamma': 1.3888413737365501}. Best is trial 0 with value: -18443.2.\n",
      "[I 2025-05-16 16:01:23,493] Trial 24 finished with value: -18443.2 and parameters: {'learning_rate': 0.16368766326748715, 'n_estimators': 102, 'max_depth': 6, 'subsample': 0.9554603201356384, 'colsample_bytree': 0.938784989507897, 'gamma': 4.035943812674842}. Best is trial 0 with value: -18443.2.\n",
      "[I 2025-05-16 16:01:24,542] Trial 25 finished with value: -18443.2 and parameters: {'learning_rate': 0.07134806829228471, 'n_estimators': 256, 'max_depth': 10, 'subsample': 0.9822139031320685, 'colsample_bytree': 0.8565169923244904, 'gamma': 2.929577371951574}. Best is trial 0 with value: -18443.2.\n",
      "[I 2025-05-16 16:01:25,747] Trial 26 finished with value: -18443.2 and parameters: {'learning_rate': 0.08596830643998421, 'n_estimators': 221, 'max_depth': 4, 'subsample': 0.7474048447960097, 'colsample_bytree': 0.8397337250209662, 'gamma': 2.5015245146359573}. Best is trial 0 with value: -18443.2.\n",
      "[I 2025-05-16 16:01:26,060] Trial 27 finished with value: -18443.2 and parameters: {'learning_rate': 0.10410997058831166, 'n_estimators': 239, 'max_depth': 4, 'subsample': 0.7598748089654237, 'colsample_bytree': 0.8348745838553273, 'gamma': 2.5837467811396366}. Best is trial 0 with value: -18443.2.\n",
      "[I 2025-05-16 16:01:27,096] Trial 28 finished with value: -18443.2 and parameters: {'learning_rate': 0.08198681497269208, 'n_estimators': 220, 'max_depth': 4, 'subsample': 0.9889072824150688, 'colsample_bytree': 0.8293050000119727, 'gamma': 2.6224507318673163}. Best is trial 0 with value: -18443.2.\n",
      "[I 2025-05-16 16:01:28,074] Trial 29 finished with value: -18443.2 and parameters: {'learning_rate': 0.07998993863532694, 'n_estimators': 220, 'max_depth': 4, 'subsample': 0.9928745190859668, 'colsample_bytree': 0.8237239455679551, 'gamma': 2.589503774743226}. Best is trial 0 with value: -18443.2.\n",
      "[I 2025-05-16 16:01:28,561] Trial 30 finished with value: -18443.2 and parameters: {'learning_rate': 0.08404611627513942, 'n_estimators': 241, 'max_depth': 4, 'subsample': 0.9608369188156896, 'colsample_bytree': 0.8370444393434701, 'gamma': 2.663365318624977}. Best is trial 0 with value: -18443.2.\n",
      "[I 2025-05-16 16:01:29,764] Trial 31 finished with value: -18443.2 and parameters: {'learning_rate': 0.08180927096114624, 'n_estimators': 223, 'max_depth': 5, 'subsample': 0.7114456677688241, 'colsample_bytree': 0.8277545000290939, 'gamma': 2.420119970805568}. Best is trial 0 with value: -18443.2.\n",
      "[I 2025-05-16 16:01:29,914] Trial 32 finished with value: -18443.2 and parameters: {'learning_rate': 0.07874975609187462, 'n_estimators': 215, 'max_depth': 5, 'subsample': 0.7112453617057719, 'colsample_bytree': 0.7915159193192374, 'gamma': 2.359528834892554}. Best is trial 0 with value: -18443.2.\n",
      "[I 2025-05-16 16:01:31,026] Trial 33 finished with value: -18443.2 and parameters: {'learning_rate': 0.08041210142147628, 'n_estimators': 216, 'max_depth': 5, 'subsample': 0.9901096663489899, 'colsample_bytree': 0.7931537072339846, 'gamma': 2.61574625712296}. Best is trial 0 with value: -18443.2.\n",
      "[I 2025-05-16 16:01:31,573] Trial 36 finished with value: -18443.2 and parameters: {'learning_rate': 0.07563439581045354, 'n_estimators': 65, 'max_depth': 5, 'subsample': 0.8017483212742422, 'colsample_bytree': 0.8991564573690117, 'gamma': 2.7409785188844347}. Best is trial 0 with value: -18443.2.\n",
      "[I 2025-05-16 16:01:31,816] Trial 35 finished with value: -18443.2 and parameters: {'learning_rate': 0.08116209645244682, 'n_estimators': 52, 'max_depth': 5, 'subsample': 0.7974364856268338, 'colsample_bytree': 0.9061223879496062, 'gamma': 2.6088491659257897}. Best is trial 0 with value: -18443.2.\n",
      "[I 2025-05-16 16:01:32,136] Trial 34 finished with value: -18443.2 and parameters: {'learning_rate': 0.07924791602698102, 'n_estimators': 212, 'max_depth': 5, 'subsample': 0.7293991599489871, 'colsample_bytree': 0.7908332061976342, 'gamma': 2.6503250865319026}. Best is trial 0 with value: -18443.2.\n",
      "[I 2025-05-16 16:01:32,305] Trial 37 finished with value: -18443.2 and parameters: {'learning_rate': 0.10020144175838096, 'n_estimators': 85, 'max_depth': 5, 'subsample': 0.807050404076121, 'colsample_bytree': 0.8964805931558334, 'gamma': 2.469964881947649}. Best is trial 0 with value: -18443.2.\n",
      "[I 2025-05-16 16:01:33,293] Trial 39 finished with value: -18443.2 and parameters: {'learning_rate': 0.08456223477298778, 'n_estimators': 79, 'max_depth': 5, 'subsample': 0.800368427802753, 'colsample_bytree': 0.7772033019483287, 'gamma': 2.5602996527274757}. Best is trial 0 with value: -18443.2.\n",
      "[I 2025-05-16 16:01:33,414] Trial 38 finished with value: -18443.2 and parameters: {'learning_rate': 0.08022314519447239, 'n_estimators': 209, 'max_depth': 5, 'subsample': 0.7956117203235035, 'colsample_bytree': 0.7760056143901032, 'gamma': 2.5608678095060653}. Best is trial 0 with value: -18443.2.\n",
      "[I 2025-05-16 16:01:33,766] Trial 40 finished with value: -18443.2 and parameters: {'learning_rate': 0.08626403812083988, 'n_estimators': 78, 'max_depth': 8, 'subsample': 0.8497546248147556, 'colsample_bytree': 0.8996006500909497, 'gamma': 2.5567240771469035}. Best is trial 0 with value: -18443.2.\n",
      "[I 2025-05-16 16:01:34,062] Trial 41 finished with value: -18443.2 and parameters: {'learning_rate': 0.09801179833283985, 'n_estimators': 79, 'max_depth': 8, 'subsample': 0.8502410243433608, 'colsample_bytree': 0.7802126358214868, 'gamma': 2.2088446966926916}. Best is trial 0 with value: -18443.2.\n",
      "[I 2025-05-16 16:01:34,311] Trial 42 finished with value: -18443.2 and parameters: {'learning_rate': 0.09809544137211666, 'n_estimators': 79, 'max_depth': 8, 'subsample': 0.8567225374614926, 'colsample_bytree': 0.9008797258313795, 'gamma': 1.9848886679364925}. Best is trial 0 with value: -18443.2.\n",
      "[I 2025-05-16 16:01:34,688] Trial 43 finished with value: -18443.2 and parameters: {'learning_rate': 0.23078884285439782, 'n_estimators': 75, 'max_depth': 8, 'subsample': 0.8265611594324409, 'colsample_bytree': 0.7799830488096493, 'gamma': 2.1553907417572407}. Best is trial 0 with value: -18443.2.\n",
      "[I 2025-05-16 16:01:34,814] Trial 44 finished with value: -18443.2 and parameters: {'learning_rate': 0.2304001675106489, 'n_estimators': 72, 'max_depth': 5, 'subsample': 0.8483006040173477, 'colsample_bytree': 0.7743894772007116, 'gamma': 1.9608746456397035}. Best is trial 0 with value: -18443.2.\n",
      "[I 2025-05-16 16:01:35,242] Trial 45 finished with value: -18443.2 and parameters: {'learning_rate': 0.21109551818540295, 'n_estimators': 78, 'max_depth': 5, 'subsample': 0.8517242141568409, 'colsample_bytree': 0.9033405420605408, 'gamma': 1.926763911874243}. Best is trial 0 with value: -18443.2.\n",
      "[I 2025-05-16 16:01:35,591] Trial 46 finished with value: -18443.2 and parameters: {'learning_rate': 0.2339718415207585, 'n_estimators': 79, 'max_depth': 5, 'subsample': 0.8295233038868719, 'colsample_bytree': 0.7737007829907585, 'gamma': 3.1297685144826635}. Best is trial 0 with value: -18443.2.\n",
      "[I 2025-05-16 16:01:35,764] Trial 47 finished with value: -18443.2 and parameters: {'learning_rate': 0.23263145337995292, 'n_estimators': 72, 'max_depth': 5, 'subsample': 0.8158009986706134, 'colsample_bytree': 0.8920728394627939, 'gamma': 2.130417342597654}. Best is trial 0 with value: -18443.2.\n",
      "[I 2025-05-16 16:01:36,112] Trial 48 finished with value: -18443.2 and parameters: {'learning_rate': 0.235337279592621, 'n_estimators': 81, 'max_depth': 8, 'subsample': 0.8540497922181596, 'colsample_bytree': 0.7518023186030356, 'gamma': 0.48420787737487103}. Best is trial 0 with value: -18443.2.\n",
      "[I 2025-05-16 16:01:36,372] Trial 49 finished with value: -18443.2 and parameters: {'learning_rate': 0.2127937202361409, 'n_estimators': 76, 'max_depth': 8, 'subsample': 0.8108664302386501, 'colsample_bytree': 0.7594916180856057, 'gamma': 0.6127164218915979}. Best is trial 0 with value: -18443.2.\n"
     ]
    },
    {
     "name": "stdout",
     "output_type": "stream",
     "text": [
      "Best params: {'learning_rate': 0.025998396026039122, 'n_estimators': 92, 'max_depth': 7, 'subsample': 0.8213409383451991, 'colsample_bytree': 0.7856783120116833, 'gamma': 2.571488342329478}\n",
      "Lowest cost: -18443.2\n"
     ]
    }
   ],
   "source": [
    "# Use only the RFE-selected features\n",
    "X_rfe = repo.X_train[best_feats]\n",
    "\n",
    "def objective(trial):\n",
    "    params = {\n",
    "        \"learning_rate\": trial.suggest_float(\"learning_rate\", 0.01, 0.3),\n",
    "        \"n_estimators\": trial.suggest_int(\"n_estimators\", 50, 300),\n",
    "        \"max_depth\": trial.suggest_int(\"max_depth\", 2, 10),\n",
    "        \"subsample\": trial.suggest_float(\"subsample\", 0.6, 1.0),\n",
    "        \"colsample_bytree\": trial.suggest_float(\"colsample_bytree\", 0.6, 1.0),\n",
    "        \"gamma\": trial.suggest_float(\"gamma\", 0, 5),\n",
    "        \"n_jobs\": -1,\n",
    "        \"eval_metric\": \"logloss\",\n",
    "        \"use_label_encoder\": False,\n",
    "    }\n",
    "    model = XGBRFClassifier(**params)\n",
    "    cv = StratifiedKFold(n_splits=10, shuffle=True, random_state=42)\n",
    "    # Return mean custom cost (lower is better)\n",
    "    scores = cross_val_score(model, X_rfe, repo.y_train, cv=cv, scoring=custom_scorer, n_jobs=-1)\n",
    "    return np.mean(scores)\n",
    "\n",
    "study = optuna.create_study(direction=\"minimize\")\n",
    "study.optimize(objective, n_trials=50, n_jobs=-1)\n",
    "\n",
    "print(\"Best params:\", study.best_params)\n",
    "print(\"Lowest cost:\", study.best_value)\n"
   ]
  },
  {
   "cell_type": "code",
   "execution_count": 17,
   "id": "23aba6bf-b23c-490e-a97c-780a332197c5",
   "metadata": {},
   "outputs": [
    {
     "data": {
      "text/html": [
       "<style>#sk-container-id-1 {\n",
       "  /* Definition of color scheme common for light and dark mode */\n",
       "  --sklearn-color-text: #000;\n",
       "  --sklearn-color-text-muted: #666;\n",
       "  --sklearn-color-line: gray;\n",
       "  /* Definition of color scheme for unfitted estimators */\n",
       "  --sklearn-color-unfitted-level-0: #fff5e6;\n",
       "  --sklearn-color-unfitted-level-1: #f6e4d2;\n",
       "  --sklearn-color-unfitted-level-2: #ffe0b3;\n",
       "  --sklearn-color-unfitted-level-3: chocolate;\n",
       "  /* Definition of color scheme for fitted estimators */\n",
       "  --sklearn-color-fitted-level-0: #f0f8ff;\n",
       "  --sklearn-color-fitted-level-1: #d4ebff;\n",
       "  --sklearn-color-fitted-level-2: #b3dbfd;\n",
       "  --sklearn-color-fitted-level-3: cornflowerblue;\n",
       "\n",
       "  /* Specific color for light theme */\n",
       "  --sklearn-color-text-on-default-background: var(--sg-text-color, var(--theme-code-foreground, var(--jp-content-font-color1, black)));\n",
       "  --sklearn-color-background: var(--sg-background-color, var(--theme-background, var(--jp-layout-color0, white)));\n",
       "  --sklearn-color-border-box: var(--sg-text-color, var(--theme-code-foreground, var(--jp-content-font-color1, black)));\n",
       "  --sklearn-color-icon: #696969;\n",
       "\n",
       "  @media (prefers-color-scheme: dark) {\n",
       "    /* Redefinition of color scheme for dark theme */\n",
       "    --sklearn-color-text-on-default-background: var(--sg-text-color, var(--theme-code-foreground, var(--jp-content-font-color1, white)));\n",
       "    --sklearn-color-background: var(--sg-background-color, var(--theme-background, var(--jp-layout-color0, #111)));\n",
       "    --sklearn-color-border-box: var(--sg-text-color, var(--theme-code-foreground, var(--jp-content-font-color1, white)));\n",
       "    --sklearn-color-icon: #878787;\n",
       "  }\n",
       "}\n",
       "\n",
       "#sk-container-id-1 {\n",
       "  color: var(--sklearn-color-text);\n",
       "}\n",
       "\n",
       "#sk-container-id-1 pre {\n",
       "  padding: 0;\n",
       "}\n",
       "\n",
       "#sk-container-id-1 input.sk-hidden--visually {\n",
       "  border: 0;\n",
       "  clip: rect(1px 1px 1px 1px);\n",
       "  clip: rect(1px, 1px, 1px, 1px);\n",
       "  height: 1px;\n",
       "  margin: -1px;\n",
       "  overflow: hidden;\n",
       "  padding: 0;\n",
       "  position: absolute;\n",
       "  width: 1px;\n",
       "}\n",
       "\n",
       "#sk-container-id-1 div.sk-dashed-wrapped {\n",
       "  border: 1px dashed var(--sklearn-color-line);\n",
       "  margin: 0 0.4em 0.5em 0.4em;\n",
       "  box-sizing: border-box;\n",
       "  padding-bottom: 0.4em;\n",
       "  background-color: var(--sklearn-color-background);\n",
       "}\n",
       "\n",
       "#sk-container-id-1 div.sk-container {\n",
       "  /* jupyter's `normalize.less` sets `[hidden] { display: none; }`\n",
       "     but bootstrap.min.css set `[hidden] { display: none !important; }`\n",
       "     so we also need the `!important` here to be able to override the\n",
       "     default hidden behavior on the sphinx rendered scikit-learn.org.\n",
       "     See: https://github.com/scikit-learn/scikit-learn/issues/21755 */\n",
       "  display: inline-block !important;\n",
       "  position: relative;\n",
       "}\n",
       "\n",
       "#sk-container-id-1 div.sk-text-repr-fallback {\n",
       "  display: none;\n",
       "}\n",
       "\n",
       "div.sk-parallel-item,\n",
       "div.sk-serial,\n",
       "div.sk-item {\n",
       "  /* draw centered vertical line to link estimators */\n",
       "  background-image: linear-gradient(var(--sklearn-color-text-on-default-background), var(--sklearn-color-text-on-default-background));\n",
       "  background-size: 2px 100%;\n",
       "  background-repeat: no-repeat;\n",
       "  background-position: center center;\n",
       "}\n",
       "\n",
       "/* Parallel-specific style estimator block */\n",
       "\n",
       "#sk-container-id-1 div.sk-parallel-item::after {\n",
       "  content: \"\";\n",
       "  width: 100%;\n",
       "  border-bottom: 2px solid var(--sklearn-color-text-on-default-background);\n",
       "  flex-grow: 1;\n",
       "}\n",
       "\n",
       "#sk-container-id-1 div.sk-parallel {\n",
       "  display: flex;\n",
       "  align-items: stretch;\n",
       "  justify-content: center;\n",
       "  background-color: var(--sklearn-color-background);\n",
       "  position: relative;\n",
       "}\n",
       "\n",
       "#sk-container-id-1 div.sk-parallel-item {\n",
       "  display: flex;\n",
       "  flex-direction: column;\n",
       "}\n",
       "\n",
       "#sk-container-id-1 div.sk-parallel-item:first-child::after {\n",
       "  align-self: flex-end;\n",
       "  width: 50%;\n",
       "}\n",
       "\n",
       "#sk-container-id-1 div.sk-parallel-item:last-child::after {\n",
       "  align-self: flex-start;\n",
       "  width: 50%;\n",
       "}\n",
       "\n",
       "#sk-container-id-1 div.sk-parallel-item:only-child::after {\n",
       "  width: 0;\n",
       "}\n",
       "\n",
       "/* Serial-specific style estimator block */\n",
       "\n",
       "#sk-container-id-1 div.sk-serial {\n",
       "  display: flex;\n",
       "  flex-direction: column;\n",
       "  align-items: center;\n",
       "  background-color: var(--sklearn-color-background);\n",
       "  padding-right: 1em;\n",
       "  padding-left: 1em;\n",
       "}\n",
       "\n",
       "\n",
       "/* Toggleable style: style used for estimator/Pipeline/ColumnTransformer box that is\n",
       "clickable and can be expanded/collapsed.\n",
       "- Pipeline and ColumnTransformer use this feature and define the default style\n",
       "- Estimators will overwrite some part of the style using the `sk-estimator` class\n",
       "*/\n",
       "\n",
       "/* Pipeline and ColumnTransformer style (default) */\n",
       "\n",
       "#sk-container-id-1 div.sk-toggleable {\n",
       "  /* Default theme specific background. It is overwritten whether we have a\n",
       "  specific estimator or a Pipeline/ColumnTransformer */\n",
       "  background-color: var(--sklearn-color-background);\n",
       "}\n",
       "\n",
       "/* Toggleable label */\n",
       "#sk-container-id-1 label.sk-toggleable__label {\n",
       "  cursor: pointer;\n",
       "  display: flex;\n",
       "  width: 100%;\n",
       "  margin-bottom: 0;\n",
       "  padding: 0.5em;\n",
       "  box-sizing: border-box;\n",
       "  text-align: center;\n",
       "  align-items: start;\n",
       "  justify-content: space-between;\n",
       "  gap: 0.5em;\n",
       "}\n",
       "\n",
       "#sk-container-id-1 label.sk-toggleable__label .caption {\n",
       "  font-size: 0.6rem;\n",
       "  font-weight: lighter;\n",
       "  color: var(--sklearn-color-text-muted);\n",
       "}\n",
       "\n",
       "#sk-container-id-1 label.sk-toggleable__label-arrow:before {\n",
       "  /* Arrow on the left of the label */\n",
       "  content: \"▸\";\n",
       "  float: left;\n",
       "  margin-right: 0.25em;\n",
       "  color: var(--sklearn-color-icon);\n",
       "}\n",
       "\n",
       "#sk-container-id-1 label.sk-toggleable__label-arrow:hover:before {\n",
       "  color: var(--sklearn-color-text);\n",
       "}\n",
       "\n",
       "/* Toggleable content - dropdown */\n",
       "\n",
       "#sk-container-id-1 div.sk-toggleable__content {\n",
       "  max-height: 0;\n",
       "  max-width: 0;\n",
       "  overflow: hidden;\n",
       "  text-align: left;\n",
       "  /* unfitted */\n",
       "  background-color: var(--sklearn-color-unfitted-level-0);\n",
       "}\n",
       "\n",
       "#sk-container-id-1 div.sk-toggleable__content.fitted {\n",
       "  /* fitted */\n",
       "  background-color: var(--sklearn-color-fitted-level-0);\n",
       "}\n",
       "\n",
       "#sk-container-id-1 div.sk-toggleable__content pre {\n",
       "  margin: 0.2em;\n",
       "  border-radius: 0.25em;\n",
       "  color: var(--sklearn-color-text);\n",
       "  /* unfitted */\n",
       "  background-color: var(--sklearn-color-unfitted-level-0);\n",
       "}\n",
       "\n",
       "#sk-container-id-1 div.sk-toggleable__content.fitted pre {\n",
       "  /* unfitted */\n",
       "  background-color: var(--sklearn-color-fitted-level-0);\n",
       "}\n",
       "\n",
       "#sk-container-id-1 input.sk-toggleable__control:checked~div.sk-toggleable__content {\n",
       "  /* Expand drop-down */\n",
       "  max-height: 200px;\n",
       "  max-width: 100%;\n",
       "  overflow: auto;\n",
       "}\n",
       "\n",
       "#sk-container-id-1 input.sk-toggleable__control:checked~label.sk-toggleable__label-arrow:before {\n",
       "  content: \"▾\";\n",
       "}\n",
       "\n",
       "/* Pipeline/ColumnTransformer-specific style */\n",
       "\n",
       "#sk-container-id-1 div.sk-label input.sk-toggleable__control:checked~label.sk-toggleable__label {\n",
       "  color: var(--sklearn-color-text);\n",
       "  background-color: var(--sklearn-color-unfitted-level-2);\n",
       "}\n",
       "\n",
       "#sk-container-id-1 div.sk-label.fitted input.sk-toggleable__control:checked~label.sk-toggleable__label {\n",
       "  background-color: var(--sklearn-color-fitted-level-2);\n",
       "}\n",
       "\n",
       "/* Estimator-specific style */\n",
       "\n",
       "/* Colorize estimator box */\n",
       "#sk-container-id-1 div.sk-estimator input.sk-toggleable__control:checked~label.sk-toggleable__label {\n",
       "  /* unfitted */\n",
       "  background-color: var(--sklearn-color-unfitted-level-2);\n",
       "}\n",
       "\n",
       "#sk-container-id-1 div.sk-estimator.fitted input.sk-toggleable__control:checked~label.sk-toggleable__label {\n",
       "  /* fitted */\n",
       "  background-color: var(--sklearn-color-fitted-level-2);\n",
       "}\n",
       "\n",
       "#sk-container-id-1 div.sk-label label.sk-toggleable__label,\n",
       "#sk-container-id-1 div.sk-label label {\n",
       "  /* The background is the default theme color */\n",
       "  color: var(--sklearn-color-text-on-default-background);\n",
       "}\n",
       "\n",
       "/* On hover, darken the color of the background */\n",
       "#sk-container-id-1 div.sk-label:hover label.sk-toggleable__label {\n",
       "  color: var(--sklearn-color-text);\n",
       "  background-color: var(--sklearn-color-unfitted-level-2);\n",
       "}\n",
       "\n",
       "/* Label box, darken color on hover, fitted */\n",
       "#sk-container-id-1 div.sk-label.fitted:hover label.sk-toggleable__label.fitted {\n",
       "  color: var(--sklearn-color-text);\n",
       "  background-color: var(--sklearn-color-fitted-level-2);\n",
       "}\n",
       "\n",
       "/* Estimator label */\n",
       "\n",
       "#sk-container-id-1 div.sk-label label {\n",
       "  font-family: monospace;\n",
       "  font-weight: bold;\n",
       "  display: inline-block;\n",
       "  line-height: 1.2em;\n",
       "}\n",
       "\n",
       "#sk-container-id-1 div.sk-label-container {\n",
       "  text-align: center;\n",
       "}\n",
       "\n",
       "/* Estimator-specific */\n",
       "#sk-container-id-1 div.sk-estimator {\n",
       "  font-family: monospace;\n",
       "  border: 1px dotted var(--sklearn-color-border-box);\n",
       "  border-radius: 0.25em;\n",
       "  box-sizing: border-box;\n",
       "  margin-bottom: 0.5em;\n",
       "  /* unfitted */\n",
       "  background-color: var(--sklearn-color-unfitted-level-0);\n",
       "}\n",
       "\n",
       "#sk-container-id-1 div.sk-estimator.fitted {\n",
       "  /* fitted */\n",
       "  background-color: var(--sklearn-color-fitted-level-0);\n",
       "}\n",
       "\n",
       "/* on hover */\n",
       "#sk-container-id-1 div.sk-estimator:hover {\n",
       "  /* unfitted */\n",
       "  background-color: var(--sklearn-color-unfitted-level-2);\n",
       "}\n",
       "\n",
       "#sk-container-id-1 div.sk-estimator.fitted:hover {\n",
       "  /* fitted */\n",
       "  background-color: var(--sklearn-color-fitted-level-2);\n",
       "}\n",
       "\n",
       "/* Specification for estimator info (e.g. \"i\" and \"?\") */\n",
       "\n",
       "/* Common style for \"i\" and \"?\" */\n",
       "\n",
       ".sk-estimator-doc-link,\n",
       "a:link.sk-estimator-doc-link,\n",
       "a:visited.sk-estimator-doc-link {\n",
       "  float: right;\n",
       "  font-size: smaller;\n",
       "  line-height: 1em;\n",
       "  font-family: monospace;\n",
       "  background-color: var(--sklearn-color-background);\n",
       "  border-radius: 1em;\n",
       "  height: 1em;\n",
       "  width: 1em;\n",
       "  text-decoration: none !important;\n",
       "  margin-left: 0.5em;\n",
       "  text-align: center;\n",
       "  /* unfitted */\n",
       "  border: var(--sklearn-color-unfitted-level-1) 1pt solid;\n",
       "  color: var(--sklearn-color-unfitted-level-1);\n",
       "}\n",
       "\n",
       ".sk-estimator-doc-link.fitted,\n",
       "a:link.sk-estimator-doc-link.fitted,\n",
       "a:visited.sk-estimator-doc-link.fitted {\n",
       "  /* fitted */\n",
       "  border: var(--sklearn-color-fitted-level-1) 1pt solid;\n",
       "  color: var(--sklearn-color-fitted-level-1);\n",
       "}\n",
       "\n",
       "/* On hover */\n",
       "div.sk-estimator:hover .sk-estimator-doc-link:hover,\n",
       ".sk-estimator-doc-link:hover,\n",
       "div.sk-label-container:hover .sk-estimator-doc-link:hover,\n",
       ".sk-estimator-doc-link:hover {\n",
       "  /* unfitted */\n",
       "  background-color: var(--sklearn-color-unfitted-level-3);\n",
       "  color: var(--sklearn-color-background);\n",
       "  text-decoration: none;\n",
       "}\n",
       "\n",
       "div.sk-estimator.fitted:hover .sk-estimator-doc-link.fitted:hover,\n",
       ".sk-estimator-doc-link.fitted:hover,\n",
       "div.sk-label-container:hover .sk-estimator-doc-link.fitted:hover,\n",
       ".sk-estimator-doc-link.fitted:hover {\n",
       "  /* fitted */\n",
       "  background-color: var(--sklearn-color-fitted-level-3);\n",
       "  color: var(--sklearn-color-background);\n",
       "  text-decoration: none;\n",
       "}\n",
       "\n",
       "/* Span, style for the box shown on hovering the info icon */\n",
       ".sk-estimator-doc-link span {\n",
       "  display: none;\n",
       "  z-index: 9999;\n",
       "  position: relative;\n",
       "  font-weight: normal;\n",
       "  right: .2ex;\n",
       "  padding: .5ex;\n",
       "  margin: .5ex;\n",
       "  width: min-content;\n",
       "  min-width: 20ex;\n",
       "  max-width: 50ex;\n",
       "  color: var(--sklearn-color-text);\n",
       "  box-shadow: 2pt 2pt 4pt #999;\n",
       "  /* unfitted */\n",
       "  background: var(--sklearn-color-unfitted-level-0);\n",
       "  border: .5pt solid var(--sklearn-color-unfitted-level-3);\n",
       "}\n",
       "\n",
       ".sk-estimator-doc-link.fitted span {\n",
       "  /* fitted */\n",
       "  background: var(--sklearn-color-fitted-level-0);\n",
       "  border: var(--sklearn-color-fitted-level-3);\n",
       "}\n",
       "\n",
       ".sk-estimator-doc-link:hover span {\n",
       "  display: block;\n",
       "}\n",
       "\n",
       "/* \"?\"-specific style due to the `<a>` HTML tag */\n",
       "\n",
       "#sk-container-id-1 a.estimator_doc_link {\n",
       "  float: right;\n",
       "  font-size: 1rem;\n",
       "  line-height: 1em;\n",
       "  font-family: monospace;\n",
       "  background-color: var(--sklearn-color-background);\n",
       "  border-radius: 1rem;\n",
       "  height: 1rem;\n",
       "  width: 1rem;\n",
       "  text-decoration: none;\n",
       "  /* unfitted */\n",
       "  color: var(--sklearn-color-unfitted-level-1);\n",
       "  border: var(--sklearn-color-unfitted-level-1) 1pt solid;\n",
       "}\n",
       "\n",
       "#sk-container-id-1 a.estimator_doc_link.fitted {\n",
       "  /* fitted */\n",
       "  border: var(--sklearn-color-fitted-level-1) 1pt solid;\n",
       "  color: var(--sklearn-color-fitted-level-1);\n",
       "}\n",
       "\n",
       "/* On hover */\n",
       "#sk-container-id-1 a.estimator_doc_link:hover {\n",
       "  /* unfitted */\n",
       "  background-color: var(--sklearn-color-unfitted-level-3);\n",
       "  color: var(--sklearn-color-background);\n",
       "  text-decoration: none;\n",
       "}\n",
       "\n",
       "#sk-container-id-1 a.estimator_doc_link.fitted:hover {\n",
       "  /* fitted */\n",
       "  background-color: var(--sklearn-color-fitted-level-3);\n",
       "}\n",
       "</style><div id=\"sk-container-id-1\" class=\"sk-top-container\"><div class=\"sk-text-repr-fallback\"><pre>XGBRFClassifier(base_score=None, booster=None, callbacks=None,\n",
       "                colsample_bylevel=None, colsample_bytree=0.7856783120116833,\n",
       "                device=None, early_stopping_rounds=None,\n",
       "                enable_categorical=False, eval_metric=None, feature_types=None,\n",
       "                feature_weights=None, gamma=2.571488342329478, grow_policy=None,\n",
       "                importance_type=None, interaction_constraints=None,\n",
       "                learning_rate=0.025998396026039122, max_bin=None,\n",
       "                max_cat_threshold=None, max_cat_to_onehot=None,\n",
       "                max_delta_step=None, max_depth=7, max_leaves=None,\n",
       "                min_child_weight=None, missing=nan, monotone_constraints=None,\n",
       "                multi_strategy=None, n_estimators=92, n_jobs=None,\n",
       "                num_parallel_tree=None, objective=&#x27;binary:logistic&#x27;, ...)</pre><b>In a Jupyter environment, please rerun this cell to show the HTML representation or trust the notebook. <br />On GitHub, the HTML representation is unable to render, please try loading this page with nbviewer.org.</b></div><div class=\"sk-container\" hidden><div class=\"sk-item\"><div class=\"sk-estimator fitted sk-toggleable\"><input class=\"sk-toggleable__control sk-hidden--visually\" id=\"sk-estimator-id-1\" type=\"checkbox\" checked><label for=\"sk-estimator-id-1\" class=\"sk-toggleable__label fitted sk-toggleable__label-arrow\"><div><div>XGBRFClassifier</div></div><div><a class=\"sk-estimator-doc-link fitted\" rel=\"noreferrer\" target=\"_blank\" href=\"https://xgboost.readthedocs.io/en/release_3.0.0/python/python_api.html#xgboost.XGBRFClassifier\">?<span>Documentation for XGBRFClassifier</span></a><span class=\"sk-estimator-doc-link fitted\">i<span>Fitted</span></span></div></label><div class=\"sk-toggleable__content fitted\"><pre>XGBRFClassifier(base_score=None, booster=None, callbacks=None,\n",
       "                colsample_bylevel=None, colsample_bytree=0.7856783120116833,\n",
       "                device=None, early_stopping_rounds=None,\n",
       "                enable_categorical=False, eval_metric=None, feature_types=None,\n",
       "                feature_weights=None, gamma=2.571488342329478, grow_policy=None,\n",
       "                importance_type=None, interaction_constraints=None,\n",
       "                learning_rate=0.025998396026039122, max_bin=None,\n",
       "                max_cat_threshold=None, max_cat_to_onehot=None,\n",
       "                max_delta_step=None, max_depth=7, max_leaves=None,\n",
       "                min_child_weight=None, missing=nan, monotone_constraints=None,\n",
       "                multi_strategy=None, n_estimators=92, n_jobs=None,\n",
       "                num_parallel_tree=None, objective=&#x27;binary:logistic&#x27;, ...)</pre></div> </div></div></div></div>"
      ],
      "text/plain": [
       "XGBRFClassifier(base_score=None, booster=None, callbacks=None,\n",
       "                colsample_bylevel=None, colsample_bytree=0.7856783120116833,\n",
       "                device=None, early_stopping_rounds=None,\n",
       "                enable_categorical=False, eval_metric=None, feature_types=None,\n",
       "                feature_weights=None, gamma=2.571488342329478, grow_policy=None,\n",
       "                importance_type=None, interaction_constraints=None,\n",
       "                learning_rate=0.025998396026039122, max_bin=None,\n",
       "                max_cat_threshold=None, max_cat_to_onehot=None,\n",
       "                max_delta_step=None, max_depth=7, max_leaves=None,\n",
       "                min_child_weight=None, missing=nan, monotone_constraints=None,\n",
       "                multi_strategy=None, n_estimators=92, n_jobs=None,\n",
       "                num_parallel_tree=None, objective='binary:logistic', ...)"
      ]
     },
     "execution_count": 17,
     "metadata": {},
     "output_type": "execute_result"
    }
   ],
   "source": [
    "final_model = XGBRFClassifier(**study.best_params)\n",
    "final_model.fit(repo.X_train[best_feats], repo.y_train)"
   ]
  },
  {
   "cell_type": "markdown",
   "id": "e1dea8c7-8994-4a86-9b19-d093d5a3980d",
   "metadata": {},
   "source": [
    "## Step 6. Evaluate model results"
   ]
  },
  {
   "cell_type": "code",
   "execution_count": 18,
   "id": "ff6cd436-1fb8-44eb-9c04-987e6004d13a",
   "metadata": {},
   "outputs": [
    {
     "data": {
      "image/png": "[encoded data removed]",
      "text/plain": [
       "<Figure size 600x800 with 1 Axes>"
      ]
     },
     "metadata": {},
     "output_type": "display_data"
    }
   ],
   "source": [
    "importances = pd.Series(final_model.feature_importances_, index=best_feats)\n",
    "importances.sort_values().plot(kind='barh', figsize=(6,8))\n",
    "plt.title(\"XGBoost Feature Importances\")\n",
    "plt.tight_layout()\n",
    "plt.show()"
   ]
  },
  {
   "cell_type": "code",
   "execution_count": 19,
   "id": "03ec6b38-d3b2-4607-96d4-51c47ec2b9d9",
   "metadata": {},
   "outputs": [
    {
     "data": {
      "image/png": "[encoded data removed]",
      "text/plain": [
       "<Figure size 800x700 with 2 Axes>"
      ]
     },
     "metadata": {},
     "output_type": "display_data"
    }
   ],
   "source": [
    "y_pred = final_model.predict(repo.X_test[best_feats])\n",
    "\n",
    "cm = confusion_matrix(repo.y_test, y_pred)\n",
    "\n",
    "precision = precision_score(repo.y_test, y_pred, zero_division=0)\n",
    "recall = recall_score(repo.y_test, y_pred, zero_division=0)\n",
    "accuracy = accuracy_score(repo.y_test, y_pred)\n",
    "f1 = f1_score(repo.y_test, y_pred, zero_division=0)\n",
    "\n",
    "# Define class labels for the plot\n",
    "class_labels = ['Not Fraud', 'Fraud']\n",
    "\n",
    "# Plotting the confusion matrix\n",
    "plt.figure(figsize=(8, 7)) # Increased figure height slightly to accommodate metrics\n",
    "sns.heatmap(cm, annot=True, fmt='d', cmap='Blues',\n",
    "            xticklabels=class_labels, yticklabels=class_labels,\n",
    "            annot_kws={\"size\": 14}) # Makes annotations easier to read\n",
    "\n",
    "plt.title('Confusion Matrix - Final XGBoost Model (Tuned + RFE features)', fontsize=16, y=1.08) # Adjust title position\n",
    "plt.ylabel('Actual Class', fontsize=14)\n",
    "plt.xlabel('Predicted Class', fontsize=14)\n",
    "plt.xticks(fontsize=12)\n",
    "plt.yticks(fontsize=12)\n",
    "\n",
    "# Adding precision, recall, and F1-score text below the heatmap\n",
    "metrics_text = f\"Accuracy: {accuracy:.4f}\\nPrecision: {precision:.4f}\\nRecall: {recall:.4f}\\nF1-score: {f1:.4f}\"\n",
    "plt.text(0.5, -0.15, metrics_text, ha='center', va='center', transform=plt.gca().transAxes, fontsize=12,\n",
    "         bbox=dict(boxstyle='round,pad=0.5', fc='aliceblue', ec='lightsteelblue', lw=1))\n",
    "\n",
    "\n",
    "plt.tight_layout(rect=[0, 0.05, 1, 0.95]) # Adjust layout to prevent labels/text from overlapping, added bottom margin\n",
    "plt.show()"
   ]
  },
  {
   "cell_type": "markdown",
   "id": "16eb7f17-0b03-48f4-b951-c90932f4e262",
   "metadata": {},
   "source": [
    "## Save the final model"
   ]
  },
  {
   "cell_type": "code",
   "execution_count": 20,
   "id": "531fea5e-9a2e-45cc-b1b8-808f3f2e8580",
   "metadata": {},
   "outputs": [
    {
     "data": {
      "text/plain": [
       "['model.pkl']"
      ]
     },
     "execution_count": 20,
     "metadata": {},
     "output_type": "execute_result"
    }
   ],
   "source": [
    "joblib.dump(final_model, Path(\".\") / \"model.pkl\")"
   ]
  }
 ],
 "metadata": {
  "kernelspec": {
   "display_name": "venv",
   "language": "python",
   "name": "venv"
  },
  "language_info": {
   "codemirror_mode": {
    "name": "ipython",
    "version": 3
   },
   "file_extension": ".py",
   "mimetype": "text/x-python",
   "name": "python",
   "nbconvert_exporter": "python",
   "pygments_lexer": "ipython3",
   "version": "3.13.3"
  }
 },
 "nbformat": 4,
 "nbformat_minor": 5
}
