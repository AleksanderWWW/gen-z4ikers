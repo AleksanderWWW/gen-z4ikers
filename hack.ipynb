{
 "cells": [
  {
   "cell_type": "code",
   "execution_count": 1,
   "id": "1e120841",
   "metadata": {},
   "outputs": [
    {
     "name": "stdout",
     "output_type": "stream",
     "text": [
      "sklearn: 1.4.2\n",
      "numpy  : 1.26.4\n"
     ]
    }
   ],
   "source": [
    "import sklearn, numpy, pandas as pd\n",
    "print(\"sklearn:\", sklearn.__version__)\n",
    "print(\"numpy  :\", numpy.__version__)\n"
   ]
  },
  {
   "cell_type": "code",
   "execution_count": 2,
   "id": "0ded0ec0",
   "metadata": {},
   "outputs": [
    {
     "name": "stdout",
     "output_type": "stream",
     "text": [
      "Train: (400000, 30) | Test: (100000, 30)\n",
      "% fraud train: 0.085 | test: 0.085\n"
     ]
    }
   ],
   "source": [
    "import pandas as pd\n",
    "from pathlib import Path\n",
    "from sklearn.model_selection import train_test_split\n",
    "\n",
    "df = pd.read_csv(Path(r\"C:\\Users\\anton\\OneDrive\\Pulpit\\Mastercard\\Master\\merged.csv\"))\n",
    "\n",
    "target = \"is_fraud\"\n",
    "y = df[target]\n",
    "X = df.drop(columns=[target])   # wszystkie pozostałe kolumny jako cechy\n",
    "\n",
    "X_train, X_test, y_train, y_test = train_test_split(\n",
    "    X, y, test_size=0.20, random_state=42, stratify=y\n",
    ")\n",
    "\n",
    "print(\"Train:\", X_train.shape, \"| Test:\", X_test.shape)\n",
    "print(\"% fraud train:\", y_train.mean().round(3), \"| test:\", y_test.mean().round(3))\n"
   ]
  },
  {
   "cell_type": "code",
   "execution_count": 3,
   "id": "ed38c69c",
   "metadata": {},
   "outputs": [
    {
     "name": "stdout",
     "output_type": "stream",
     "text": [
      "AUC = 0.567\n",
      "AP  = 0.103\n"
     ]
    }
   ],
   "source": [
    "# %% ----------- HistGradientBoosting baseline --------------------------\n",
    "from sklearn.compose import ColumnTransformer\n",
    "from sklearn.preprocessing import StandardScaler, OrdinalEncoder\n",
    "from sklearn.pipeline import make_pipeline\n",
    "from sklearn.ensemble import HistGradientBoostingClassifier\n",
    "from sklearn.metrics import roc_auc_score, average_precision_score\n",
    "\n",
    "# 1⃣  Definicja kolumn\n",
    "num_cols = X_train.select_dtypes([\"int64\", \"float64\"]).columns.tolist()\n",
    "cat_cols = X_train.select_dtypes([\"object\"]).columns.tolist()\n",
    "\n",
    "# 2⃣  Preprocessing: skaler + ordinal\n",
    "preprocess = ColumnTransformer(\n",
    "    [(\"num\", StandardScaler(), num_cols),\n",
    "     (\"cat\", OrdinalEncoder(handle_unknown=\"use_encoded_value\", unknown_value=-1), cat_cols)],\n",
    "    remainder=\"drop\",\n",
    ")\n",
    "\n",
    "# 3⃣  Model\n",
    "hgb = HistGradientBoostingClassifier(\n",
    "    learning_rate=0.15,\n",
    "    max_depth=6,\n",
    "    max_iter=200,\n",
    "    class_weight={0:1, 1:10},      # ⬅️ lekkie doważenie fraudów\n",
    "    random_state=42\n",
    ")\n",
    "\n",
    "pipe = make_pipeline(preprocess, hgb)\n",
    "pipe.fit(X_train, y_train)\n",
    "\n",
    "# 4⃣  Metryki\n",
    "proba_test = pipe.predict_proba(X_test)[:, 1]\n",
    "auc = roc_auc_score(y_test, proba_test)\n",
    "ap  = average_precision_score(y_test, proba_test)\n",
    "\n",
    "print(f\"AUC = {auc:.3f}\")\n",
    "print(f\"AP  = {ap:.3f}\")\n"
   ]
  },
  {
   "cell_type": "code",
   "execution_count": 4,
   "id": "57056ad5",
   "metadata": {},
   "outputs": [
    {
     "name": "stdout",
     "output_type": "stream",
     "text": [
      "[[55541 35977]\n",
      " [ 4349  4133]]\n"
     ]
    }
   ],
   "source": [
    "from sklearn.metrics import confusion_matrix\n",
    "print(confusion_matrix(y_test, (proba_test >= 0.5).astype(int)))\n"
   ]
  }
 ],
 "metadata": {
  "kernelspec": {
   "display_name": "Python 3",
   "language": "python",
   "name": "python3"
  },
  "language_info": {
   "codemirror_mode": {
    "name": "ipython",
    "version": 3
   },
   "file_extension": ".py",
   "mimetype": "text/x-python",
   "name": "python",
   "nbconvert_exporter": "python",
   "pygments_lexer": "ipython3",
   "version": "3.12.4"
  }
 },
 "nbformat": 4,
 "nbformat_minor": 5
}
