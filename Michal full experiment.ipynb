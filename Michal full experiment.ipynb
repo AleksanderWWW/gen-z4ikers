{
 "cells": [
  {
   "cell_type": "code",
   "execution_count": 129,
   "id": "ae940472-96ba-43d2-a908-5d7125923240",
   "metadata": {},
   "outputs": [],
   "source": [
    "import pandas as pd\n",
    "import numpy as np\n",
    "\n",
    "from sklearn.preprocessing import OrdinalEncoder\n",
    "from sklearn.ensemble import GradientBoostingClassifier\n",
    "\n",
    "import xgboost\n",
    "import optuna\n",
    "\n",
    "import matplotlib.pyplot as plt\n",
    "import seaborn as sns\n",
    "sns.set()\n",
    "\n",
    "import warnings\n",
    "warnings.filterwarnings(\"ignore\")\n"
   ]
  },
  {
   "cell_type": "code",
   "execution_count": 48,
   "id": "bc1518d8-d69d-4c46-bf46-9b88ef0e6d8b",
   "metadata": {},
   "outputs": [],
   "source": [
    "data_transactions = pd.read_json(\"../transactions.json\", lines=True)\n",
    "data_merchants = pd.read_csv(\"../merchants.csv\")\n",
    "data_users = pd.read_csv(\"../users.csv\")"
   ]
  },
  {
   "cell_type": "code",
   "execution_count": 49,
   "id": "e87ba73d-901d-4c25-a569-1429825955af",
   "metadata": {},
   "outputs": [],
   "source": [
    "location_df = pd.json_normalize(data_transactions['location'])\n",
    "location_df.columns = ['latitude', 'longitude']\n",
    "\n",
    "data_transactions = data_transactions.drop(columns=['location']).join(location_df)"
   ]
  },
  {
   "cell_type": "code",
   "execution_count": 50,
   "id": "675d58cd-1731-4102-a3ba-4b856a76c8c2",
   "metadata": {},
   "outputs": [],
   "source": [
    "df = data_transactions.merge(data_merchants, on='merchant_id', how='left').merge(data_users, on='user_id', how='left')"
   ]
  },
  {
   "cell_type": "code",
   "execution_count": 55,
   "id": "c1737cc8-c0e9-4669-8b3b-bfd83dc20aa6",
   "metadata": {},
   "outputs": [
    {
     "data": {
      "text/plain": [
       "education\n",
       "PhD             103760\n",
       "Master          100526\n",
       "Bachelor        100325\n",
       "High School      98823\n",
       "No Education     96566\n",
       "Name: count, dtype: int64"
      ]
     },
     "execution_count": 55,
     "metadata": {},
     "output_type": "execute_result"
    }
   ],
   "source": [
    "df[\"education\"] = df[\"education\"].fillna(\"No Education\")  # nan -> wykształcenie niższe niż średnie\n",
    "df[\"education\"].value_counts()"
   ]
  },
  {
   "cell_type": "code",
   "execution_count": 89,
   "id": "2be0e2da-3d51-4ef4-a10b-54cfbf03cd2d",
   "metadata": {},
   "outputs": [],
   "source": [
    "df_cleaned = df.drop(columns = [\"transaction_id\", \"currency\"])"
   ]
  },
  {
   "cell_type": "code",
   "execution_count": 93,
   "id": "1976d873-d26b-40ac-b659-0ca6a9fe3428",
   "metadata": {},
   "outputs": [],
   "source": [
    "# Sort by user_id and timestamp for user-based features\n",
    "df_cleaned = df_cleaned.sort_values(by=[\"user_id\", \"timestamp\"])\n",
    "df_cleaned = df_cleaned.reset_index(drop=True) # Ensure unique, sequential index\n",
    "\n",
    "# User fraud history\n",
    "df_cleaned['temp_cumulative_fraud'] = df_cleaned.groupby('user_id')['is_fraud'].cumsum()\n",
    "shifted_cumulative_fraud = df_cleaned.groupby('user_id')['temp_cumulative_fraud'].shift(1)\n",
    "df_cleaned['user_has_fraud_history'] = shifted_cumulative_fraud.fillna(0).gt(0).astype(int)\n",
    "df_cleaned = df_cleaned.drop(columns=['temp_cumulative_fraud'])\n",
    "\n",
    "# User transaction count\n",
    "df_cleaned[\"dummy\"] = np.ones(len(df_cleaned))\n",
    "df_cleaned[\"users_transaction_count\"] = df_cleaned.groupby(\"user_id\")[\"dummy\"].cumsum().astype(int)\n",
    "df_cleaned = df_cleaned.drop(columns=[\"dummy\"])\n",
    "\n",
    "# Time since last transaction for user\n",
    "df_cleaned['time_since_last_transaction_user'] = df_cleaned.groupby('user_id')['timestamp'].diff().dt.days\n",
    "df_cleaned['time_since_last_transaction_user'] = df_cleaned['time_since_last_transaction_user'].fillna(0).astype(int)\n",
    "\n",
    "# Transaction amount statistics for user\n",
    "user_amount_mean_shifted = df_cleaned.groupby('user_id')['amount'].transform(lambda x: x.expanding().mean().shift(1))\n",
    "user_amount_std_shifted = df_cleaned.groupby('user_id')['amount'].transform(lambda x: x.expanding().std().shift(1))\n",
    "df_cleaned['transaction_amount_std_from_user_mean'] = (df_cleaned['amount'] - user_amount_mean_shifted) / user_amount_std_shifted\n",
    "df_cleaned['transaction_amount_std_from_user_mean'].replace([np.inf, -np.inf], np.nan, inplace=True)\n",
    "df_cleaned['transaction_amount_std_from_user_mean'].fillna(0, inplace=True)\n",
    "\n",
    "# Days since signup\n",
    "df_cleaned['signup_date'] = pd.to_datetime(df_cleaned['signup_date'])\n",
    "df_cleaned['transaction_date'] = pd.to_datetime(df_cleaned['timestamp'], unit='ms')\n",
    "df_cleaned['days_since_signup'] = (df_cleaned['transaction_date'] - df_cleaned['signup_date']).dt.total_seconds() / (24*3600)\n",
    "\n",
    "# Transaction time features\n",
    "df_cleaned['transaction_hour'] = df_cleaned['transaction_date'].dt.hour\n",
    "df_cleaned['is_transaction_night'] = ((df_cleaned['transaction_hour'] >= 0) & (df_cleaned['transaction_hour'] < 6)).astype(int)\n",
    "\n",
    "# Helper function for rolling count\n",
    "def rolling_count(series, window):\n",
    "    # series is a DataFrame with 'transaction_date'\n",
    "    return series['transaction_date'].apply(\n",
    "        lambda x: ((series['transaction_date'] >= (x - pd.Timedelta(window))) & (series['transaction_date'] < x)).sum()\n",
    "    )\n",
    "\n",
    "# Calculate transactions in the last 1 hour for each user\n",
    "df_cleaned['transactions_last_1h_user'] = (\n",
    "    df_cleaned.groupby('user_id', group_keys=False)\n",
    "    .apply(lambda group: rolling_count(group, '1h'))\n",
    "    .sort_index()\n",
    ")\n",
    "\n",
    "# Calculate transactions in the last 24 hours for each user\n",
    "df_cleaned['transactions_last_24h_user'] = (\n",
    "    df_cleaned.groupby('user_id', group_keys=False)\n",
    "    .apply(lambda group: rolling_count(group, '24h'))\n",
    "    .sort_index()\n",
    ")\n",
    "\n",
    "# Average amount of last 5 transactions for user\n",
    "df_cleaned['avg_amount_last_5_tx_user'] = df_cleaned.groupby('user_id')['amount'].transform(lambda x: x.rolling(window=5, min_periods=1).mean().shift(1))\n",
    "df_cleaned['avg_amount_last_5_tx_user'].fillna(0, inplace=True)\n",
    "\n",
    "# Sort by merchant_id and timestamp for merchant-based features\n",
    "df_cleaned = df_cleaned.sort_values(by=[\"merchant_id\", \"timestamp\"])\n",
    "df_cleaned = df_cleaned.reset_index(drop=True) # Reset index again\n",
    "\n",
    "# Merchant fraud history\n",
    "df_cleaned['temp_cumulative_fraud'] = df_cleaned.groupby('merchant_id')['is_fraud'].cumsum()\n",
    "shifted_cumulative_fraud = df_cleaned.groupby('merchant_id')['temp_cumulative_fraud'].shift(1)\n",
    "df_cleaned['merchant_has_fraud_history'] = shifted_cumulative_fraud.fillna(0).gt(0).astype(int)\n",
    "df_cleaned = df_cleaned.drop(columns=['temp_cumulative_fraud'])\n",
    "\n",
    "df_cleaned = df_cleaned.sort_values(by=[\"user_id\", \"timestamp\"]) # Consistent sorting\n",
    "df_cleaned = df_cleaned.reset_index(drop=True) # Clean index\n",
    "\n",
    "def _get_user_device_mode_for_transform(series):\n",
    "    # Ensure numpy is imported in your notebook, e.g., import numpy as np\n",
    "    modes = series.mode()\n",
    "    if not modes.empty:\n",
    "        return modes.iloc[0]\n",
    "    return np.nan\n",
    "\n",
    "df_cleaned['user_mode_device_temp'] = df_cleaned.groupby('user_id')['device'].transform(_get_user_device_mode_for_transform)\n",
    "df_cleaned['device_changed'] = 0\n",
    "has_mode_device = df_cleaned['user_mode_device_temp'].notna()\n",
    "df_cleaned.loc[has_mode_device, 'device_changed'] = \\\n",
    "    (df_cleaned.loc[has_mode_device, 'device'] != df_cleaned.loc[has_mode_device, 'user_mode_device_temp']).astype(int)\n",
    "\n",
    "#Change datatypes if necessary\n",
    "df_cleaned['days_since_signup'] = df_cleaned['days_since_signup'].astype(int)\n",
    "\n",
    "# Clean up temporary columns\n",
    "df_features_added = df_cleaned.drop(columns=['transaction_date', 'signup_date'])\n"
   ]
  },
  {
   "cell_type": "code",
   "execution_count": 94,
   "id": "1273bddd",
   "metadata": {},
   "outputs": [],
   "source": [
    "# drop the data with time-delta info\n",
    "df_features_added = df_cleaned.drop(columns=['transaction_date', 'signup_date', 'timestamp'])"
   ]
  },
  {
   "cell_type": "code",
   "execution_count": 105,
   "id": "88df0c3f-027a-412e-a0ac-1f941087c8b0",
   "metadata": {},
   "outputs": [],
   "source": [
    "from sklearn.preprocessing import OrdinalEncoder\n",
    "from imblearn.under_sampling import RandomUnderSampler\n",
    "from sklearn.metrics import f1_score, confusion_matrix\n",
    "\n",
    "\n",
    "enc = OrdinalEncoder()\n",
    "\n",
    "X = df_features_added.drop(columns=[\"is_fraud\"])\n",
    "y = df_features_added[\"is_fraud\"]\n",
    "\n",
    "X = pd.DataFrame(enc.fit_transform(X), columns=X.columns)\n",
    "\n",
    "rus = RandomUnderSampler(random_state=42)\n",
    "\n",
    "X_res, y_res = rus.fit_resample(X, y)"
   ]
  },
  {
   "cell_type": "markdown",
   "id": "037d690b",
   "metadata": {},
   "source": [
    "Tune the model a little bit before RFE"
   ]
  },
  {
   "cell_type": "code",
   "execution_count": 119,
   "id": "8feabf66-1e59-41f5-94c1-182b916e5f8f",
   "metadata": {},
   "outputs": [
    {
     "name": "stderr",
     "output_type": "stream",
     "text": [
      "[I 2025-05-16 10:52:43,096] A new study created in memory with name: no-name-3abcd5b9-1447-44f4-a491-11468bc7f7be\n"
     ]
    },
    {
     "name": "stderr",
     "output_type": "stream",
     "text": [
      "[I 2025-05-16 10:52:44,252] Trial 0 finished with value: 0.558860328316766 and parameters: {'learning_rate': 0.07227045963478206, 'n_estimators': 62, 'max_depth': 7, 'subsample': 0.6010960394534356, 'colsample_bytree': 0.6988145770996592, 'gamma': 2.177620191620898}. Best is trial 0 with value: 0.558860328316766.\n",
      "[I 2025-05-16 10:52:47,525] Trial 1 finished with value: 0.5453156212405795 and parameters: {'learning_rate': 0.0685146203478071, 'n_estimators': 120, 'max_depth': 9, 'subsample': 0.7804130776105705, 'colsample_bytree': 0.9853961896454996, 'gamma': 1.9446417926065025}. Best is trial 0 with value: 0.558860328316766.\n",
      "[I 2025-05-16 10:52:49,892] Trial 2 finished with value: 0.5476989686479482 and parameters: {'learning_rate': 0.09557209285640683, 'n_estimators': 158, 'max_depth': 7, 'subsample': 0.8821037547382217, 'colsample_bytree': 0.7895869032355284, 'gamma': 0.8100014515515974}. Best is trial 0 with value: 0.558860328316766.\n",
      "[I 2025-05-16 10:52:51,394] Trial 3 finished with value: 0.5700998009088671 and parameters: {'learning_rate': 0.05519577167073518, 'n_estimators': 185, 'max_depth': 4, 'subsample': 0.8034449655467347, 'colsample_bytree': 0.6639193699483051, 'gamma': 1.809078479908719}. Best is trial 3 with value: 0.5700998009088671.\n",
      "[I 2025-05-16 10:52:53,220] Trial 4 finished with value: 0.5503844548016029 and parameters: {'learning_rate': 0.20060114172570354, 'n_estimators': 283, 'max_depth': 3, 'subsample': 0.7409815717046272, 'colsample_bytree': 0.9225619520231536, 'gamma': 1.975720973544438}. Best is trial 3 with value: 0.5700998009088671.\n",
      "[I 2025-05-16 10:52:54,109] Trial 5 finished with value: 0.5399874359431796 and parameters: {'learning_rate': 0.23321311014606616, 'n_estimators': 52, 'max_depth': 6, 'subsample': 0.6389091542484029, 'colsample_bytree': 0.7649332575503228, 'gamma': 0.36400808223753633}. Best is trial 3 with value: 0.5700998009088671.\n",
      "[I 2025-05-16 10:52:55,022] Trial 6 finished with value: 0.5676774509320103 and parameters: {'learning_rate': 0.12007287705264683, 'n_estimators': 134, 'max_depth': 2, 'subsample': 0.7754472355686172, 'colsample_bytree': 0.8232904460818739, 'gamma': 1.4015224742921966}. Best is trial 3 with value: 0.5700998009088671.\n",
      "[I 2025-05-16 10:52:57,242] Trial 7 finished with value: 0.5312625423354012 and parameters: {'learning_rate': 0.22857666604845814, 'n_estimators': 248, 'max_depth': 5, 'subsample': 0.7849236766294203, 'colsample_bytree': 0.7074877288896924, 'gamma': 1.4347740331794412}. Best is trial 3 with value: 0.5700998009088671.\n",
      "[I 2025-05-16 10:52:58,229] Trial 8 finished with value: 0.5566544376556144 and parameters: {'learning_rate': 0.2648469933326228, 'n_estimators': 155, 'max_depth': 2, 'subsample': 0.6130660491693393, 'colsample_bytree': 0.8640234280438206, 'gamma': 2.0851276569873614}. Best is trial 3 with value: 0.5700998009088671.\n",
      "[I 2025-05-16 10:53:00,089] Trial 9 finished with value: 0.5681782473457164 and parameters: {'learning_rate': 0.04909122783185828, 'n_estimators': 181, 'max_depth': 5, 'subsample': 0.7316874304815253, 'colsample_bytree': 0.7827935865383497, 'gamma': 2.6167399604934967}. Best is trial 3 with value: 0.5700998009088671.\n",
      "[I 2025-05-16 10:53:04,931] Trial 10 finished with value: 0.5718812931652122 and parameters: {'learning_rate': 0.014334954250657117, 'n_estimators': 207, 'max_depth': 10, 'subsample': 0.9879368589020441, 'colsample_bytree': 0.6054197492252908, 'gamma': 3.978916302918839}. Best is trial 10 with value: 0.5718812931652122.\n",
      "[I 2025-05-16 10:53:09,641] Trial 11 finished with value: 0.5719082442713576 and parameters: {'learning_rate': 0.01432116383456545, 'n_estimators': 216, 'max_depth': 10, 'subsample': 0.9859202507043119, 'colsample_bytree': 0.6161812999438628, 'gamma': 4.288799574117779}. Best is trial 11 with value: 0.5719082442713576.\n",
      "[I 2025-05-16 10:53:12,927] Trial 12 finished with value: 0.5732309479101628 and parameters: {'learning_rate': 0.024677362663877364, 'n_estimators': 225, 'max_depth': 10, 'subsample': 0.981216405707781, 'colsample_bytree': 0.6068282771673017, 'gamma': 4.4741253854200895}. Best is trial 12 with value: 0.5732309479101628.\n",
      "[I 2025-05-16 10:53:17,124] Trial 13 finished with value: 0.5728220252575031 and parameters: {'learning_rate': 0.010074508224276656, 'n_estimators': 238, 'max_depth': 9, 'subsample': 0.9914628678381884, 'colsample_bytree': 0.6093093878033019, 'gamma': 4.709452146394026}. Best is trial 12 with value: 0.5732309479101628.\n",
      "[I 2025-05-16 10:53:18,857] Trial 14 finished with value: 0.5623977620623305 and parameters: {'learning_rate': 0.1510809042955188, 'n_estimators': 297, 'max_depth': 8, 'subsample': 0.9215284105198629, 'colsample_bytree': 0.6536352236507234, 'gamma': 4.939987606223774}. Best is trial 12 with value: 0.5732309479101628.\n",
      "[I 2025-05-16 10:53:24,598] Trial 15 finished with value: 0.5714526433715045 and parameters: {'learning_rate': 0.010593743578271572, 'n_estimators': 247, 'max_depth': 9, 'subsample': 0.9242507870058366, 'colsample_bytree': 0.7105400418784134, 'gamma': 3.2965965279538603}. Best is trial 12 with value: 0.5732309479101628.\n",
      "[I 2025-05-16 10:53:26,499] Trial 16 finished with value: 0.5561359674766392 and parameters: {'learning_rate': 0.13836522820951302, 'n_estimators': 254, 'max_depth': 9, 'subsample': 0.8668898839935597, 'colsample_bytree': 0.6015655692000734, 'gamma': 4.758190334058434}. Best is trial 12 with value: 0.5732309479101628.\n",
      "[I 2025-05-16 10:53:28,171] Trial 17 finished with value: 0.560426904320838 and parameters: {'learning_rate': 0.1073085657948401, 'n_estimators': 220, 'max_depth': 8, 'subsample': 0.9445644112707146, 'colsample_bytree': 0.6582011603272734, 'gamma': 3.4076414555991437}. Best is trial 12 with value: 0.5732309479101628.\n",
      "[I 2025-05-16 10:53:29,976] Trial 18 finished with value: 0.5475643933437401 and parameters: {'learning_rate': 0.17276046104855003, 'n_estimators': 276, 'max_depth': 8, 'subsample': 0.8505937439082374, 'colsample_bytree': 0.7584397129598986, 'gamma': 3.9727268338017314}. Best is trial 12 with value: 0.5732309479101628.\n",
      "[I 2025-05-16 10:53:33,124] Trial 19 finished with value: 0.5633756416256163 and parameters: {'learning_rate': 0.043241576462888, 'n_estimators': 236, 'max_depth': 10, 'subsample': 0.9996197883999288, 'colsample_bytree': 0.8583712603601957, 'gamma': 3.082298120542257}. Best is trial 12 with value: 0.5732309479101628.\n",
      "[I 2025-05-16 10:53:34,254] Trial 20 finished with value: 0.5562613632208006 and parameters: {'learning_rate': 0.299585966368787, 'n_estimators': 198, 'max_depth': 7, 'subsample': 0.9541362428130167, 'colsample_bytree': 0.7286817056088956, 'gamma': 4.504413342735601}. Best is trial 12 with value: 0.5732309479101628.\n",
      "[I 2025-05-16 10:53:37,344] Trial 21 finished with value: 0.5705735442948549 and parameters: {'learning_rate': 0.028541393267544422, 'n_estimators': 212, 'max_depth': 10, 'subsample': 0.968067410106528, 'colsample_bytree': 0.6244920149379142, 'gamma': 4.286694587498879}. Best is trial 12 with value: 0.5732309479101628.\n",
      "[I 2025-05-16 10:53:39,543] Trial 22 finished with value: 0.5573033623330391 and parameters: {'learning_rate': 0.0781782927921375, 'n_estimators': 226, 'max_depth': 10, 'subsample': 0.8993538267412168, 'colsample_bytree': 0.6301184394767408, 'gamma': 3.8680143522773456}. Best is trial 12 with value: 0.5732309479101628.\n",
      "[I 2025-05-16 10:53:42,081] Trial 23 finished with value: 0.5727498313606548 and parameters: {'learning_rate': 0.03347534711158652, 'n_estimators': 269, 'max_depth': 9, 'subsample': 0.9980430453173816, 'colsample_bytree': 0.6761670164612349, 'gamma': 4.982547467435056}. Best is trial 12 with value: 0.5732309479101628.\n",
      "[I 2025-05-16 10:53:44,455] Trial 24 finished with value: 0.5701208911321339 and parameters: {'learning_rate': 0.038535175304626273, 'n_estimators': 267, 'max_depth': 9, 'subsample': 0.9431108190075201, 'colsample_bytree': 0.6778242109805088, 'gamma': 4.947810538928992}. Best is trial 12 with value: 0.5732309479101628.\n",
      "[I 2025-05-16 10:53:46,602] Trial 25 finished with value: 0.5532227080855283 and parameters: {'learning_rate': 0.09083393418118987, 'n_estimators': 265, 'max_depth': 8, 'subsample': 0.83142518985415, 'colsample_bytree': 0.6502105982491833, 'gamma': 3.5676790774858542}. Best is trial 12 with value: 0.5732309479101628.\n",
      "[I 2025-05-16 10:53:49,377] Trial 26 finished with value: 0.5684618247306793 and parameters: {'learning_rate': 0.03666009782495962, 'n_estimators': 290, 'max_depth': 9, 'subsample': 0.9082567306163062, 'colsample_bytree': 0.6843469102910539, 'gamma': 4.524694143241258}. Best is trial 12 with value: 0.5732309479101628.\n",
      "[I 2025-05-16 10:53:50,905] Trial 27 finished with value: 0.5749607682269945 and parameters: {'learning_rate': 0.06225274336620078, 'n_estimators': 234, 'max_depth': 6, 'subsample': 0.9725262870020678, 'colsample_bytree': 0.729999223316507, 'gamma': 4.67092391014463}. Best is trial 27 with value: 0.5749607682269945.\n",
      "[I 2025-05-16 10:53:52,678] Trial 28 finished with value: 0.5695579365998796 and parameters: {'learning_rate': 0.06224374417189613, 'n_estimators': 234, 'max_depth': 6, 'subsample': 0.9673315065513366, 'colsample_bytree': 0.7372089581378757, 'gamma': 2.783325877806382}. Best is trial 27 with value: 0.5749607682269945.\n",
      "[I 2025-05-16 10:53:54,867] Trial 29 finished with value: 0.5493299080304112 and parameters: {'learning_rate': 0.08201509805905995, 'n_estimators': 195, 'max_depth': 7, 'subsample': 0.6848784895077532, 'colsample_bytree': 0.8368491643024991, 'gamma': 3.681102532156588}. Best is trial 27 with value: 0.5749607682269945.\n"
     ]
    },
    {
     "name": "stdout",
     "output_type": "stream",
     "text": [
      "Best params: {'learning_rate': 0.06225274336620078, 'n_estimators': 234, 'max_depth': 6, 'subsample': 0.9725262870020678, 'colsample_bytree': 0.729999223316507, 'gamma': 4.67092391014463}\n",
      "Best F1: 0.5749607682269945\n"
     ]
    }
   ],
   "source": [
    "import optuna\n",
    "from xgboost import XGBClassifier\n",
    "from sklearn.model_selection import cross_val_score, StratifiedKFold\n",
    "\n",
    "def objective(trial):\n",
    "    params = {\n",
    "        \"learning_rate\": trial.suggest_float(\"learning_rate\", 0.01, 0.3),\n",
    "        \"n_estimators\": trial.suggest_int(\"n_estimators\", 50, 300),\n",
    "        \"max_depth\": trial.suggest_int(\"max_depth\", 2, 10),\n",
    "        \"subsample\": trial.suggest_float(\"subsample\", 0.6, 1.0),\n",
    "        \"colsample_bytree\": trial.suggest_float(\"colsample_bytree\", 0.6, 1.0),\n",
    "        \"gamma\": trial.suggest_float(\"gamma\", 0, 5),\n",
    "        \"n_jobs\": -1,\n",
    "        \"eval_metric\": \"logloss\",\n",
    "        \"use_label_encoder\": False,\n",
    "    }\n",
    "    model = XGBClassifier(**params)\n",
    "    cv = StratifiedKFold(n_splits=3, shuffle=True, random_state=42)\n",
    "    f1 = cross_val_score(model, X_res, y_res, cv=cv, scoring=\"f1\").mean()\n",
    "    return f1\n",
    "\n",
    "study = optuna.create_study(direction=\"maximize\")\n",
    "study.optimize(objective, n_trials=30)\n",
    "\n",
    "print(\"Best params:\", study.best_params)\n",
    "print(\"Best F1:\", study.best_value)"
   ]
  },
  {
   "cell_type": "code",
   "execution_count": 125,
   "id": "26ef7453",
   "metadata": {},
   "outputs": [
    {
     "name": "stdout",
     "output_type": "stream",
     "text": [
      "RFE done: best F1=0.5803 with 3 features.\n"
     ]
    }
   ],
   "source": [
    "import numpy as np\n",
    "import pandas as pd\n",
    "from sklearn.model_selection import StratifiedKFold, cross_val_score\n",
    "from sklearn.metrics import make_scorer, f1_score\n",
    "from sklearn.base import clone\n",
    "from xgboost import XGBClassifier\n",
    "\n",
    "def rfe_with_cv(\n",
    "    model_prototype,\n",
    "    X: pd.DataFrame,\n",
    "    y: pd.Series,\n",
    "    n_splits: int = 5,\n",
    "    scoring = make_scorer(f1_score),\n",
    "    random_state = 42)\n",
    "    \n",
    "    # Initialization\n",
    "    features = X.columns.tolist()\n",
    "    best_score = -np.inf\n",
    "    best_features = features.copy()\n",
    "    f1_history = {}\n",
    "\n",
    "    # CV strategy\n",
    "    cv = StratifiedKFold(\n",
    "        n_splits=n_splits,\n",
    "        shuffle=True,\n",
    "        random_state=random_state\n",
    "    )\n",
    "\n",
    "    # Iterative elimination\n",
    "    while features:\n",
    "        # Evaluate current feature set via cross-validation\n",
    "        model = clone(model_prototype)\n",
    "        scores = cross_val_score(\n",
    "            model,\n",
    "            X[features],\n",
    "            y,\n",
    "            cv=cv,\n",
    "            scoring=scoring,\n",
    "            n_jobs=-1\n",
    "        )\n",
    "        mean_score = np.mean(scores)\n",
    "        f1_history[len(features)] = mean_score\n",
    "\n",
    "        # Update best if improved (or same score with fewer features)\n",
    "        if mean_score > best_score or (\n",
    "            np.isclose(mean_score, best_score) and len(features) < len(best_features)\n",
    "        ):\n",
    "            best_score = mean_score\n",
    "            best_features = features.copy()\n",
    "\n",
    "        # Stop if only one feature remains\n",
    "        if len(features) == 1:\n",
    "            break\n",
    "\n",
    "        # Fit on the full data to get importances\n",
    "        model_full = clone(model_prototype)\n",
    "        model_full.fit(X[features], y)\n",
    "        importances = pd.Series(\n",
    "            model_full.feature_importances_,\n",
    "            index=features\n",
    "        )\n",
    "        # Eliminate least important feature\n",
    "        least_imp = importances.idxmin()\n",
    "        features.remove(least_imp)\n",
    "\n",
    "    print(\n",
    "        f\"RFE done: best F1={best_score:.4f} with {len(best_features)} features.\"\n",
    "    )\n",
    "    return best_features, f1_history\n",
    "\n",
    "\n",
    "best_params = {'learning_rate': 0.06225274336620078, 'n_estimators': 234, 'max_depth': 6, 'subsample': 0.9725262870020678, 'colsample_bytree': 0.729999223316507, 'gamma': 4.67092391014463}\n",
    "\n",
    "xgb_prototype = XGBClassifier(**best_params)\n",
    "best_feats, history = rfe_with_cv(xgb_prototype, X_res, y_res)"
   ]
  },
  {
   "cell_type": "markdown",
   "id": "7bdc6b24",
   "metadata": {},
   "source": [
    "Now with reduce feature size lets run Optuna with Stratified KFold again to tune the final model"
   ]
  },
  {
   "cell_type": "code",
   "execution_count": 132,
   "id": "a9bafe24",
   "metadata": {},
   "outputs": [
    {
     "name": "stderr",
     "output_type": "stream",
     "text": [
      "[I 2025-05-16 11:15:58,589] A new study created in memory with name: no-name-5428b7fc-0085-4859-b08f-3d79d41bfbfc\n",
      "[I 2025-05-16 11:15:59,832] Trial 0 finished with value: 0.5660964267408339 and parameters: {'learning_rate': 0.26543829344784864, 'n_estimators': 51, 'max_depth': 7, 'subsample': 0.7540771246706623, 'colsample_bytree': 0.6942341244688814, 'gamma': 0.21464636716703733}. Best is trial 0 with value: 0.5660964267408339.\n",
      "[I 2025-05-16 11:16:00,865] Trial 1 finished with value: 0.5630070580831936 and parameters: {'learning_rate': 0.27749505594991913, 'n_estimators': 82, 'max_depth': 8, 'subsample': 0.6690453682061623, 'colsample_bytree': 0.6220747726601121, 'gamma': 3.2451311943346846}. Best is trial 0 with value: 0.5660964267408339.\n",
      "[I 2025-05-16 11:16:02,550] Trial 2 finished with value: 0.5686258958921353 and parameters: {'learning_rate': 0.03412470973210163, 'n_estimators': 84, 'max_depth': 7, 'subsample': 0.7019462210654983, 'colsample_bytree': 0.7824627593606372, 'gamma': 0.5180140060444166}. Best is trial 2 with value: 0.5686258958921353.\n",
      "[I 2025-05-16 11:16:03,817] Trial 3 finished with value: 0.5756869353036687 and parameters: {'learning_rate': 0.2219363103480137, 'n_estimators': 113, 'max_depth': 9, 'subsample': 0.8917105686423366, 'colsample_bytree': 0.9492194510432184, 'gamma': 3.3088308658032877}. Best is trial 3 with value: 0.5756869353036687.\n",
      "[I 2025-05-16 11:16:05,753] Trial 4 finished with value: 0.5767229057354158 and parameters: {'learning_rate': 0.25998597325441997, 'n_estimators': 205, 'max_depth': 3, 'subsample': 0.7598103528948408, 'colsample_bytree': 0.8081107538173385, 'gamma': 4.477686424295948}. Best is trial 4 with value: 0.5767229057354158.\n",
      "[I 2025-05-16 11:16:06,902] Trial 5 finished with value: 0.5666423437371345 and parameters: {'learning_rate': 0.11090272620375465, 'n_estimators': 51, 'max_depth': 7, 'subsample': 0.616070175335159, 'colsample_bytree': 0.8889697762361561, 'gamma': 0.1855711647362629}. Best is trial 4 with value: 0.5767229057354158.\n",
      "[I 2025-05-16 11:16:09,282] Trial 6 finished with value: 0.5661836189775807 and parameters: {'learning_rate': 0.051684070209155546, 'n_estimators': 130, 'max_depth': 6, 'subsample': 0.6017543045934968, 'colsample_bytree': 0.8459155801158633, 'gamma': 0.17888697808880472}. Best is trial 4 with value: 0.5767229057354158.\n",
      "[I 2025-05-16 11:16:11,102] Trial 7 finished with value: 0.5732394281330284 and parameters: {'learning_rate': 0.27209963575582174, 'n_estimators': 162, 'max_depth': 5, 'subsample': 0.8089654349641188, 'colsample_bytree': 0.9659515458969627, 'gamma': 2.2406730881164405}. Best is trial 4 with value: 0.5767229057354158.\n",
      "[I 2025-05-16 11:16:12,986] Trial 8 finished with value: 0.5769950761211029 and parameters: {'learning_rate': 0.24666727788342174, 'n_estimators': 171, 'max_depth': 8, 'subsample': 0.7754721079860081, 'colsample_bytree': 0.6872336009865414, 'gamma': 3.789875087898417}. Best is trial 8 with value: 0.5769950761211029.\n",
      "[I 2025-05-16 11:16:14,012] Trial 9 finished with value: 0.5756510261224773 and parameters: {'learning_rate': 0.12984017854992502, 'n_estimators': 54, 'max_depth': 7, 'subsample': 0.8131229158094236, 'colsample_bytree': 0.7051320470894575, 'gamma': 2.0045399417168723}. Best is trial 8 with value: 0.5769950761211029.\n",
      "[I 2025-05-16 11:16:16,685] Trial 10 finished with value: 0.5602965183970635 and parameters: {'learning_rate': 0.19966529843437164, 'n_estimators': 289, 'max_depth': 10, 'subsample': 0.9877678105483979, 'colsample_bytree': 0.6001076320694338, 'gamma': 4.890624224746635}. Best is trial 8 with value: 0.5769950761211029.\n",
      "[I 2025-05-16 11:16:19,115] Trial 11 finished with value: 0.5780405512862334 and parameters: {'learning_rate': 0.20514792807790727, 'n_estimators': 219, 'max_depth': 2, 'subsample': 0.8722182914093871, 'colsample_bytree': 0.7679077923274663, 'gamma': 4.96536951351638}. Best is trial 11 with value: 0.5780405512862334.\n",
      "[I 2025-05-16 11:16:21,218] Trial 12 finished with value: 0.5781565182109307 and parameters: {'learning_rate': 0.20324677785913303, 'n_estimators': 228, 'max_depth': 2, 'subsample': 0.872564192911363, 'colsample_bytree': 0.7324102037369982, 'gamma': 3.9552147136418094}. Best is trial 12 with value: 0.5781565182109307.\n",
      "[I 2025-05-16 11:16:23,395] Trial 13 finished with value: 0.5783241251164083 and parameters: {'learning_rate': 0.18943008906594552, 'n_estimators': 234, 'max_depth': 2, 'subsample': 0.8928654232783914, 'colsample_bytree': 0.7471703550687723, 'gamma': 4.205470590368242}. Best is trial 13 with value: 0.5783241251164083.\n",
      "[I 2025-05-16 11:16:26,121] Trial 14 finished with value: 0.5781839583458263 and parameters: {'learning_rate': 0.16097484941389942, 'n_estimators': 263, 'max_depth': 4, 'subsample': 0.9412977604641819, 'colsample_bytree': 0.752429994582388, 'gamma': 3.9786450844901724}. Best is trial 13 with value: 0.5783241251164083.\n",
      "[I 2025-05-16 11:16:28,425] Trial 15 finished with value: 0.5782449501513643 and parameters: {'learning_rate': 0.15598572027417473, 'n_estimators': 278, 'max_depth': 4, 'subsample': 0.9754035804062198, 'colsample_bytree': 0.8477656387910475, 'gamma': 2.8654886675654936}. Best is trial 13 with value: 0.5783241251164083.\n",
      "[I 2025-05-16 11:16:30,670] Trial 16 finished with value: 0.5802858018175461 and parameters: {'learning_rate': 0.08064987168101993, 'n_estimators': 260, 'max_depth': 4, 'subsample': 0.9937915395146665, 'colsample_bytree': 0.8892121624525293, 'gamma': 2.807419318722784}. Best is trial 16 with value: 0.5802858018175461.\n",
      "[I 2025-05-16 11:16:32,907] Trial 17 finished with value: 0.5778210920146638 and parameters: {'learning_rate': 0.10499972559009535, 'n_estimators': 248, 'max_depth': 3, 'subsample': 0.9219693982229625, 'colsample_bytree': 0.9115316328220876, 'gamma': 1.5409005550955084}. Best is trial 16 with value: 0.5802858018175461.\n",
      "[I 2025-05-16 11:16:34,778] Trial 18 finished with value: 0.5793432134889279 and parameters: {'learning_rate': 0.07250830621749596, 'n_estimators': 194, 'max_depth': 4, 'subsample': 0.9981634541143205, 'colsample_bytree': 0.9957897882233253, 'gamma': 1.267895562142852}. Best is trial 16 with value: 0.5802858018175461.\n",
      "[I 2025-05-16 11:16:36,764] Trial 19 finished with value: 0.5751743178225303 and parameters: {'learning_rate': 0.080310180495508, 'n_estimators': 196, 'max_depth': 5, 'subsample': 0.9501948246878743, 'colsample_bytree': 0.9954866855994489, 'gamma': 0.9880644385485065}. Best is trial 16 with value: 0.5802858018175461.\n",
      "[I 2025-05-16 11:16:38,946] Trial 20 finished with value: 0.5763687010585635 and parameters: {'learning_rate': 0.011456987675177506, 'n_estimators': 149, 'max_depth': 5, 'subsample': 0.9995831501364608, 'colsample_bytree': 0.9121326965192988, 'gamma': 1.472374774723115}. Best is trial 16 with value: 0.5802858018175461.\n",
      "[I 2025-05-16 11:16:41,154] Trial 21 finished with value: 0.5789674966885138 and parameters: {'learning_rate': 0.06305643239316924, 'n_estimators': 246, 'max_depth': 3, 'subsample': 0.9106212883778262, 'colsample_bytree': 0.832612342618761, 'gamma': 2.6459142286841377}. Best is trial 16 with value: 0.5802858018175461.\n",
      "[I 2025-05-16 11:16:42,988] Trial 22 finished with value: 0.5786494842502855 and parameters: {'learning_rate': 0.069698095236281, 'n_estimators': 191, 'max_depth': 4, 'subsample': 0.945073508816298, 'colsample_bytree': 0.839300614148021, 'gamma': 2.5741471152837296}. Best is trial 16 with value: 0.5802858018175461.\n",
      "[I 2025-05-16 11:16:45,253] Trial 23 finished with value: 0.5776293100724289 and parameters: {'learning_rate': 0.08475631182542616, 'n_estimators': 252, 'max_depth': 3, 'subsample': 0.8369832630654777, 'colsample_bytree': 0.8796667443149883, 'gamma': 1.8428076716912463}. Best is trial 16 with value: 0.5802858018175461.\n",
      "[I 2025-05-16 11:16:47,963] Trial 24 finished with value: 0.5798817081330474 and parameters: {'learning_rate': 0.037173650785952334, 'n_estimators': 294, 'max_depth': 4, 'subsample': 0.9745779201437409, 'colsample_bytree': 0.9429909565508284, 'gamma': 2.774315395170899}. Best is trial 16 with value: 0.5802858018175461.\n",
      "[I 2025-05-16 11:16:50,693] Trial 25 finished with value: 0.5798018122739117 and parameters: {'learning_rate': 0.03523803378597431, 'n_estimators': 299, 'max_depth': 4, 'subsample': 0.9710068583980684, 'colsample_bytree': 0.9942366303364549, 'gamma': 3.171099039866938}. Best is trial 16 with value: 0.5802858018175461.\n",
      "[I 2025-05-16 11:16:53,958] Trial 26 finished with value: 0.5794492354984275 and parameters: {'learning_rate': 0.029211561050621244, 'n_estimators': 300, 'max_depth': 6, 'subsample': 0.9652924444449604, 'colsample_bytree': 0.9559440856543056, 'gamma': 3.1740281016573872}. Best is trial 16 with value: 0.5802858018175461.\n",
      "[I 2025-05-16 11:16:57,189] Trial 27 finished with value: 0.579392300810349 and parameters: {'learning_rate': 0.01283356094508192, 'n_estimators': 271, 'max_depth': 5, 'subsample': 0.9255597073201464, 'colsample_bytree': 0.9301991739492204, 'gamma': 3.5660565723386104}. Best is trial 16 with value: 0.5802858018175461.\n",
      "[I 2025-05-16 11:17:00,031] Trial 28 finished with value: 0.5785669040609547 and parameters: {'learning_rate': 0.0363220682612917, 'n_estimators': 297, 'max_depth': 6, 'subsample': 0.8405115954218016, 'colsample_bytree': 0.8832668453100364, 'gamma': 2.9788331904079772}. Best is trial 16 with value: 0.5802858018175461.\n",
      "[I 2025-05-16 11:17:02,408] Trial 29 finished with value: 0.5785382220642095 and parameters: {'learning_rate': 0.10297489163703619, 'n_estimators': 281, 'max_depth': 4, 'subsample': 0.9625530452908608, 'colsample_bytree': 0.9739415541748624, 'gamma': 2.2115056663456834}. Best is trial 16 with value: 0.5802858018175461.\n",
      "[I 2025-05-16 11:17:04,887] Trial 30 finished with value: 0.5784436203336897 and parameters: {'learning_rate': 0.04634576848468419, 'n_estimators': 267, 'max_depth': 3, 'subsample': 0.7248102113404078, 'colsample_bytree': 0.9309706840725787, 'gamma': 3.544832421990868}. Best is trial 16 with value: 0.5802858018175461.\n",
      "[I 2025-05-16 11:17:07,978] Trial 31 finished with value: 0.5795422008160138 and parameters: {'learning_rate': 0.025441936721041135, 'n_estimators': 295, 'max_depth': 6, 'subsample': 0.9735410582716779, 'colsample_bytree': 0.9658154900362931, 'gamma': 3.0215986410423334}. Best is trial 16 with value: 0.5802858018175461.\n",
      "[I 2025-05-16 11:17:10,236] Trial 32 finished with value: 0.5746299066608165 and parameters: {'learning_rate': 0.29876415961922836, 'n_estimators': 286, 'max_depth': 6, 'subsample': 0.9749095333282937, 'colsample_bytree': 0.9745849497301395, 'gamma': 2.8096077802153485}. Best is trial 16 with value: 0.5802858018175461.\n",
      "[I 2025-05-16 11:17:13,203] Trial 33 finished with value: 0.5785611418450067 and parameters: {'learning_rate': 0.02296641353734761, 'n_estimators': 262, 'max_depth': 5, 'subsample': 0.9323794522100642, 'colsample_bytree': 0.9299030550214166, 'gamma': 2.370186580648339}. Best is trial 16 with value: 0.5802858018175461.\n",
      "[I 2025-05-16 11:17:15,804] Trial 34 finished with value: 0.579219058505753 and parameters: {'learning_rate': 0.0530175918088591, 'n_estimators': 294, 'max_depth': 4, 'subsample': 0.9055892993465456, 'colsample_bytree': 0.9948328969163482, 'gamma': 3.2183066195911842}. Best is trial 16 with value: 0.5802858018175461.\n",
      "[I 2025-05-16 11:17:18,553] Trial 35 finished with value: 0.5796622152101534 and parameters: {'learning_rate': 0.037789477982604444, 'n_estimators': 300, 'max_depth': 8, 'subsample': 0.9620871952788622, 'colsample_bytree': 0.9415325689063628, 'gamma': 3.490710745999257}. Best is trial 16 with value: 0.5802858018175461.\n",
      "[I 2025-05-16 11:17:21,095] Trial 36 finished with value: 0.5779037630805967 and parameters: {'learning_rate': 0.09160318125454832, 'n_estimators': 277, 'max_depth': 8, 'subsample': 0.87375624836932, 'colsample_bytree': 0.905184233645385, 'gamma': 3.484455692077453}. Best is trial 16 with value: 0.5802858018175461.\n",
      "[I 2025-05-16 11:17:23,287] Trial 37 finished with value: 0.5769510914175157 and parameters: {'learning_rate': 0.12256168101349169, 'n_estimators': 256, 'max_depth': 9, 'subsample': 0.951428071686462, 'colsample_bytree': 0.9360349321652282, 'gamma': 2.502344458775313}. Best is trial 16 with value: 0.5802858018175461.\n",
      "[I 2025-05-16 11:17:25,298] Trial 38 finished with value: 0.5792756325329124 and parameters: {'learning_rate': 0.04815377563060242, 'n_estimators': 212, 'max_depth': 10, 'subsample': 0.9914125784497299, 'colsample_bytree': 0.8656990286250225, 'gamma': 4.390407418414958}. Best is trial 16 with value: 0.5802858018175461.\n",
      "[I 2025-05-16 11:17:27,731] Trial 39 finished with value: 0.5784575716103744 and parameters: {'learning_rate': 0.0628810658726334, 'n_estimators': 243, 'max_depth': 8, 'subsample': 0.9010441008321233, 'colsample_bytree': 0.8056101488023899, 'gamma': 3.37944988919383}. Best is trial 16 with value: 0.5802858018175461.\n",
      "[I 2025-05-16 11:17:30,134] Trial 40 finished with value: 0.5766568457970898 and parameters: {'learning_rate': 0.13424616295379785, 'n_estimators': 282, 'max_depth': 7, 'subsample': 0.71858027259783, 'colsample_bytree': 0.9496075471084486, 'gamma': 3.7878709522050853}. Best is trial 16 with value: 0.5802858018175461.\n",
      "[I 2025-05-16 11:17:33,160] Trial 41 finished with value: 0.578169223762418 and parameters: {'learning_rate': 0.032421330623096906, 'n_estimators': 295, 'max_depth': 9, 'subsample': 0.660606182121012, 'colsample_bytree': 0.9781254996201653, 'gamma': 2.9727210882754567}. Best is trial 16 with value: 0.5802858018175461.\n",
      "[I 2025-05-16 11:17:36,270] Trial 42 finished with value: 0.5799528731038961 and parameters: {'learning_rate': 0.021268433688570322, 'n_estimators': 300, 'max_depth': 5, 'subsample': 0.9743140958405342, 'colsample_bytree': 0.9477863563687678, 'gamma': 3.1168980480377377}. Best is trial 16 with value: 0.5802858018175461.\n",
      "[I 2025-05-16 11:17:38,871] Trial 43 finished with value: 0.5789767241922368 and parameters: {'learning_rate': 0.04236677669270589, 'n_estimators': 273, 'max_depth': 5, 'subsample': 0.9602634176983621, 'colsample_bytree': 0.9046350377609866, 'gamma': 2.0677368361148982}. Best is trial 16 with value: 0.5802858018175461.\n",
      "[I 2025-05-16 11:17:40,591] Trial 44 finished with value: 0.5763995714210057 and parameters: {'learning_rate': 0.011135360354315556, 'n_estimators': 118, 'max_depth': 4, 'subsample': 0.9789469089756826, 'colsample_bytree': 0.9465960541477728, 'gamma': 2.769940318298466}. Best is trial 16 with value: 0.5802858018175461.\n",
      "[I 2025-05-16 11:17:43,177] Trial 45 finished with value: 0.564113588512842 and parameters: {'learning_rate': 0.05751207747622166, 'n_estimators': 299, 'max_depth': 5, 'subsample': 0.9248274698726532, 'colsample_bytree': 0.6515184767931513, 'gamma': 3.664474069335146}. Best is trial 16 with value: 0.5802858018175461.\n",
      "[I 2025-05-16 11:17:44,338] Trial 46 finished with value: 0.5799675423304061 and parameters: {'learning_rate': 0.03970447773100759, 'n_estimators': 87, 'max_depth': 3, 'subsample': 0.9983111442578437, 'colsample_bytree': 0.8692122797590514, 'gamma': 3.2438239727984235}. Best is trial 16 with value: 0.5802858018175461.\n",
      "[I 2025-05-16 11:17:45,402] Trial 47 finished with value: 0.5763189690338211 and parameters: {'learning_rate': 0.02353161045254167, 'n_estimators': 63, 'max_depth': 3, 'subsample': 0.7860028746382245, 'colsample_bytree': 0.8588796758829165, 'gamma': 3.154520295891081}. Best is trial 16 with value: 0.5802858018175461.\n",
      "[I 2025-05-16 11:17:46,923] Trial 48 finished with value: 0.5792651091175152 and parameters: {'learning_rate': 0.09054033665167796, 'n_estimators': 101, 'max_depth': 2, 'subsample': 0.9862547525462232, 'colsample_bytree': 0.8245624694311129, 'gamma': 3.932300414684096}. Best is trial 16 with value: 0.5802858018175461.\n",
      "[I 2025-05-16 11:17:48,824] Trial 49 finished with value: 0.5801338569446799 and parameters: {'learning_rate': 0.07264077038225678, 'n_estimators': 136, 'max_depth': 3, 'subsample': 0.9974022946808194, 'colsample_bytree': 0.7882942294645123, 'gamma': 2.658621567263558}. Best is trial 16 with value: 0.5802858018175461.\n",
      "[I 2025-05-16 11:17:50,270] Trial 50 finished with value: 0.5808289801114086 and parameters: {'learning_rate': 0.07466160758595378, 'n_estimators': 139, 'max_depth': 2, 'subsample': 0.9972492496565205, 'colsample_bytree': 0.816503405915622, 'gamma': 1.7388660629903723}. Best is trial 50 with value: 0.5808289801114086.\n",
      "[I 2025-05-16 11:17:51,669] Trial 51 finished with value: 0.5807969022941301 and parameters: {'learning_rate': 0.0771899158213048, 'n_estimators': 140, 'max_depth': 2, 'subsample': 0.9889528922012416, 'colsample_bytree': 0.7896308615863223, 'gamma': 2.3125967677892434}. Best is trial 50 with value: 0.5808289801114086.\n",
      "[I 2025-05-16 11:17:53,093] Trial 52 finished with value: 0.5808732252825461 and parameters: {'learning_rate': 0.0783977100006569, 'n_estimators': 144, 'max_depth': 2, 'subsample': 0.9968671932668101, 'colsample_bytree': 0.7824185455643041, 'gamma': 1.7869281747876058}. Best is trial 52 with value: 0.5808732252825461.\n",
      "[I 2025-05-16 11:17:54,452] Trial 53 finished with value: 0.57954260170702 and parameters: {'learning_rate': 0.1191836394757178, 'n_estimators': 143, 'max_depth': 2, 'subsample': 0.9984861025369807, 'colsample_bytree': 0.7871359272912178, 'gamma': 1.908288872944512}. Best is trial 52 with value: 0.5808732252825461.\n",
      "[I 2025-05-16 11:17:56,079] Trial 54 finished with value: 0.5793105178428164 and parameters: {'learning_rate': 0.07533015326858762, 'n_estimators': 164, 'max_depth': 2, 'subsample': 0.9993513808320714, 'colsample_bytree': 0.785277062137157, 'gamma': 0.622210365936638}. Best is trial 52 with value: 0.5808732252825461.\n",
      "[I 2025-05-16 11:17:57,599] Trial 55 finished with value: 0.5782600374939357 and parameters: {'learning_rate': 0.10199392205421517, 'n_estimators': 134, 'max_depth': 3, 'subsample': 0.9492797589909256, 'colsample_bytree': 0.8198791741066, 'gamma': 1.7537127314015721}. Best is trial 52 with value: 0.5808732252825461.\n",
      "[I 2025-05-16 11:17:58,894] Trial 56 finished with value: 0.5795817542037527 and parameters: {'learning_rate': 0.09489725387967164, 'n_estimators': 101, 'max_depth': 2, 'subsample': 0.9864511382931959, 'colsample_bytree': 0.7639562642470209, 'gamma': 2.287958949522804}. Best is trial 52 with value: 0.5808732252825461.\n",
      "[I 2025-05-16 11:18:00,853] Trial 57 finished with value: 0.5769995193095527 and parameters: {'learning_rate': 0.14227859392606562, 'n_estimators': 182, 'max_depth': 3, 'subsample': 0.9426879186370317, 'colsample_bytree': 0.7256908228452049, 'gamma': 1.1421890432689032}. Best is trial 52 with value: 0.5808732252825461.\n",
      "[I 2025-05-16 11:18:02,490] Trial 58 finished with value: 0.5795641570682634 and parameters: {'learning_rate': 0.18027340715635193, 'n_estimators': 152, 'max_depth': 2, 'subsample': 0.9363487227097367, 'colsample_bytree': 0.8023097979210686, 'gamma': 1.6521375665445115}. Best is trial 52 with value: 0.5808732252825461.\n",
      "[I 2025-05-16 11:18:03,894] Trial 59 finished with value: 0.5798168825569164 and parameters: {'learning_rate': 0.08080218446973363, 'n_estimators': 126, 'max_depth': 2, 'subsample': 0.9832018454551434, 'colsample_bytree': 0.816789444590365, 'gamma': 2.0813940952713392}. Best is trial 52 with value: 0.5808732252825461.\n"
     ]
    },
    {
     "name": "stdout",
     "output_type": "stream",
     "text": [
      "Best params: {'learning_rate': 0.0783977100006569, 'n_estimators': 144, 'max_depth': 2, 'subsample': 0.9968671932668101, 'colsample_bytree': 0.7824185455643041, 'gamma': 1.7869281747876058}\n",
      "Best F1: 0.5808732252825461\n"
     ]
    }
   ],
   "source": [
    "import optuna\n",
    "from xgboost import XGBClassifier\n",
    "from sklearn.model_selection import cross_val_score, StratifiedKFold\n",
    "\n",
    "# Use only the RFE-selected features\n",
    "X_rfe = X_res[best_feats]\n",
    "\n",
    "def objective(trial):\n",
    "    params = {\n",
    "        \"learning_rate\": trial.suggest_float(\"learning_rate\", 0.01, 0.3),\n",
    "        \"n_estimators\": trial.suggest_int(\"n_estimators\", 50, 300),\n",
    "        \"max_depth\": trial.suggest_int(\"max_depth\", 2, 10),\n",
    "        \"subsample\": trial.suggest_float(\"subsample\", 0.6, 1.0),\n",
    "        \"colsample_bytree\": trial.suggest_float(\"colsample_bytree\", 0.6, 1.0),\n",
    "        \"gamma\": trial.suggest_float(\"gamma\", 0, 5),\n",
    "        \"n_jobs\": -1,\n",
    "        \"eval_metric\": \"logloss\",\n",
    "        \"use_label_encoder\": False,\n",
    "    }\n",
    "    model = XGBClassifier(**params)\n",
    "    cv = StratifiedKFold(n_splits=10, shuffle=True, random_state=42)\n",
    "    f1 = cross_val_score(model, X_rfe, y_res, cv=cv, scoring=\"f1\").mean()\n",
    "    return f1\n",
    "\n",
    "study = optuna.create_study(direction=\"maximize\")\n",
    "study.optimize(objective, n_trials=60)\n",
    "\n",
    "print(\"Best params:\", study.best_params)\n",
    "print(\"Best F1:\", study.best_value)"
   ]
  },
  {
   "cell_type": "code",
   "execution_count": 135,
   "id": "d315893b",
   "metadata": {},
   "outputs": [
    {
     "data": {
      "image/png": "[encoded data removed]",
      "text/plain": [
       "<Figure size 600x800 with 1 Axes>"
      ]
     },
     "metadata": {},
     "output_type": "display_data"
    }
   ],
   "source": [
    "final_model = XGBClassifier(**study.best_params)\n",
    "final_model.fit(X_res[best_feats], y_res)\n",
    "\n",
    "importances = pd.Series(final_model.feature_importances_, index=best_feats)\n",
    "importances.sort_values().plot(kind='barh', figsize=(6,8))\n",
    "plt.title(\"XGBoost Feature Importances\")\n",
    "plt.tight_layout()\n",
    "plt.show()"
   ]
  }
 ],
 "metadata": {
  "kernelspec": {
   "display_name": "Forecasting",
   "language": "python",
   "name": "python3"
  },
  "language_info": {
   "codemirror_mode": {
    "name": "ipython",
    "version": 3
   },
   "file_extension": ".py",
   "mimetype": "text/x-python",
   "name": "python",
   "nbconvert_exporter": "python",
   "pygments_lexer": "ipython3",
   "version": "3.10.16"
  }
 },
 "nbformat": 4,
 "nbformat_minor": 5
}
